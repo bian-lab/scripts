{
 "cells": [
  {
   "cell_type": "markdown",
   "id": "069c21e6",
   "metadata": {
    "toc": true
   },
   "source": [
    "<h1>Table of Contents<span class=\"tocSkip\"></span></h1>\n",
    "<div class=\"toc\"><ul class=\"toc-item\"><li><span><a href=\"#Load-data-from-synapse-with-Python\" data-toc-modified-id=\"Load-data-from-synapse-with-Python-1\"><span class=\"toc-item-num\">1&nbsp;&nbsp;</span>Load data from synapse with Python</a></span><ul class=\"toc-item\"><li><span><a href=\"#Load-data\" data-toc-modified-id=\"Load-data-1.1\"><span class=\"toc-item-num\">1.1&nbsp;&nbsp;</span>Load data</a></span></li></ul></li></ul></div>"
   ]
  },
  {
   "cell_type": "markdown",
   "id": "97c39a3d",
   "metadata": {},
   "source": [
    "## Load data from synapse with Python"
   ]
  },
  {
   "cell_type": "markdown",
   "id": "ee73aaab",
   "metadata": {},
   "source": [
    "TDT provide a python api to load the recording data. Check [TDT load data with python](https://www.tdt.com/docs/sdk/offline-data-analysis/offline-data-python/getting-started/#installation)"
   ]
  },
  {
   "cell_type": "code",
   "execution_count": 2,
   "id": "f42f7c44",
   "metadata": {
    "ExecuteTime": {
     "end_time": "2024-03-07T07:49:10.397180Z",
     "start_time": "2024-03-07T07:49:10.378384Z"
    }
   },
   "outputs": [],
   "source": [
    "import tdt"
   ]
  },
  {
   "cell_type": "markdown",
   "id": "4213d9de",
   "metadata": {},
   "source": [
    "### Load data"
   ]
  },
  {
   "cell_type": "code",
   "execution_count": 5,
   "id": "dfad212c",
   "metadata": {
    "ExecuteTime": {
     "end_time": "2024-03-07T07:55:06.949010Z",
     "start_time": "2024-03-07T07:51:31.107949Z"
    }
   },
   "outputs": [
    {
     "name": "stdout",
     "output_type": "stream",
     "text": [
      "read from t=0s to t=86400.04s\n"
     ]
    }
   ],
   "source": [
    "data = tdt.read_block(r\"E:\\workplace\\EEGProcessing\\00_DATA\\20240117_0700\")"
   ]
  },
  {
   "cell_type": "code",
   "execution_count": 7,
   "id": "68a058ec",
   "metadata": {
    "ExecuteTime": {
     "end_time": "2024-03-07T08:09:59.756748Z",
     "start_time": "2024-03-07T08:07:48.855163Z"
    }
   },
   "outputs": [
    {
     "name": "stdout",
     "output_type": "stream",
     "text": [
      "read from t=0s to t=86400.04s\n"
     ]
    },
    {
     "name": "stderr",
     "output_type": "stream",
     "text": [
      "D:\\miniconda3\\envs\\EEG\\lib\\site-packages\\tdt\\TDTbin2py.py:1938: RuntimeWarning: divide by zero encountered in scalar floor_divide\n",
      "  data[current_type_str][current_name].data[jj] = np.zeros([nchan, npts * np.uint64(len(these_offsets)) // nchan], dtype=current_data_format)\n"
     ]
    }
   ],
   "source": [
    "data_channels = tdt.read_block(r\"E:\\workplace\\EEGProcessing\\00_DATA\\20240117_0700\", \n",
    "                              evtype=['streams'], channel=['eega', 'eegb', 'emga', 'WXQ1'])"
   ]
  },
  {
   "cell_type": "code",
   "execution_count": null,
   "id": "61db46bf",
   "metadata": {},
   "outputs": [],
   "source": [
    "data_sev = tdt.read_sev()"
   ]
  },
  {
   "cell_type": "code",
   "execution_count": 13,
   "id": "9a5fedc8",
   "metadata": {
    "ExecuteTime": {
     "end_time": "2024-03-07T08:11:14.127483Z",
     "start_time": "2024-03-07T08:11:14.115427Z"
    }
   },
   "outputs": [
    {
     "name": "stdout",
     "output_type": "stream",
     "text": [
      "(0, 0)\n"
     ]
    }
   ],
   "source": [
    "print(data_channels.streams.eega.data.shape)"
   ]
  },
  {
   "cell_type": "code",
   "execution_count": 6,
   "id": "66109443",
   "metadata": {
    "ExecuteTime": {
     "end_time": "2024-03-07T07:55:41.515052Z",
     "start_time": "2024-03-07T07:55:41.495270Z"
    }
   },
   "outputs": [],
   "source": [
    "?tdt.read_block"
   ]
  }
 ],
 "metadata": {
  "kernelspec": {
   "display_name": "Python 3 (ipykernel)",
   "language": "python",
   "name": "python3"
  },
  "language_info": {
   "codemirror_mode": {
    "name": "ipython",
    "version": 3
   },
   "file_extension": ".py",
   "mimetype": "text/x-python",
   "name": "python",
   "nbconvert_exporter": "python",
   "pygments_lexer": "ipython3",
   "version": "3.8.17"
  },
  "toc": {
   "base_numbering": 1,
   "nav_menu": {},
   "number_sections": true,
   "sideBar": true,
   "skip_h1_title": false,
   "title_cell": "Table of Contents",
   "title_sidebar": "Contents",
   "toc_cell": true,
   "toc_position": {},
   "toc_section_display": true,
   "toc_window_display": false
  }
 },
 "nbformat": 4,
 "nbformat_minor": 5
}
