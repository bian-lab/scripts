{
 "cells": [
  {
   "cell_type": "markdown",
   "id": "ecb694db",
   "metadata": {
    "toc": true
   },
   "source": [
    "<h1>Table of Contents<span class=\"tocSkip\"></span></h1>\n",
    "<div class=\"toc\"><ul class=\"toc-item\"><li><span><a href=\"#Transfer-result\" data-toc-modified-id=\"Transfer-result-1\"><span class=\"toc-item-num\">1&nbsp;&nbsp;</span>Transfer result</a></span><ul class=\"toc-item\"><li><span><a href=\"#Get-the-label-file-content\" data-toc-modified-id=\"Get-the-label-file-content-1.1\"><span class=\"toc-item-num\">1.1&nbsp;&nbsp;</span>Get the label file content</a></span></li></ul></li></ul></div>"
   ]
  },
  {
   "cell_type": "markdown",
   "id": "f420a688",
   "metadata": {},
   "source": [
    "## Transfer result\n",
    "Transfer the label result to a excel file"
   ]
  },
  {
   "cell_type": "code",
   "execution_count": 33,
   "id": "74980558",
   "metadata": {
    "ExecuteTime": {
     "end_time": "2024-01-30T09:08:20.413985Z",
     "start_time": "2024-01-30T09:08:20.409002Z"
    }
   },
   "outputs": [],
   "source": [
    "import datetime\n",
    "import pandas as pd\n",
    "import numpy as np"
   ]
  },
  {
   "cell_type": "code",
   "execution_count": 56,
   "id": "8cdd792d",
   "metadata": {
    "ExecuteTime": {
     "end_time": "2024-01-30T09:20:35.549100Z",
     "start_time": "2024-01-30T09:20:35.538136Z"
    }
   },
   "outputs": [],
   "source": [
    "def transfer_time(date_time, seconds, date_time_format='%d:%H:%M:%S'):\n",
    "    \"\"\"\n",
    "    Add seconds to the date time and transfer to the target format\n",
    "    \n",
    "    Parameters\n",
    "    ----------\n",
    "    date_time : datetime object\n",
    "        The date time we want to start with, here is the reset acquisition time\n",
    "    seconds : int\n",
    "        Seconds going to add to the date_time\n",
    "    date_time_format : str\n",
    "        Final format of date_time. Defaults is '%d:%M:%H:%S'\n",
    "        \n",
    "    Returns\n",
    "    -------\n",
    "    target_time : str\n",
    "        Final date time in string format\n",
    "        \n",
    "    Examples\n",
    "    --------\n",
    "    Add seconds to the datetime\n",
    "    \n",
    "    >>> import datetime\n",
    "    >>> original_time = datetime.datetime(2024, 1, 30, 10, 50, 0)\n",
    "    >>> seconds = 40\n",
    "    >>> format_ = '%d-%M:%H:%S'\n",
    "    >>> transfer_time(original_time, seconds, format_)\n",
    "    '30-10:50:40'\n",
    "    \"\"\"\n",
    "    \n",
    "    temp_time = date_time + datetime.timedelta(seconds=seconds)\n",
    "    return temp_time.strftime(format=date_time_format)\n",
    "\n",
    "def insert_row(df, idx, row):\n",
    "    \"\"\"\n",
    "    Insert a row to a dataframe in a specific position\n",
    "    \n",
    "    Parameters\n",
    "    ----------\n",
    "    df : pandas.DataFrame\n",
    "        dataframe for operation\n",
    "    idx : int\n",
    "        index to insert the row, insert below the row\n",
    "    row : series\n",
    "        Row to insert\n",
    "        \n",
    "    Returns\n",
    "    -------\n",
    "    result_df : pandas.DataFrame\n",
    "    \"\"\"\n",
    "    if isinstance(row, pd.Series):\n",
    "        row = pd.DataFrame(row).T\n",
    "    df = pd.concat([df[:idx], row, df[idx:]], axis=0).reset_index(drop = True)\n",
    "    return df\n",
    "    \n",
    "    "
   ]
  },
  {
   "cell_type": "markdown",
   "id": "bfc36264",
   "metadata": {},
   "source": [
    "### Get the label file content\n"
   ]
  },
  {
   "cell_type": "code",
   "execution_count": 158,
   "id": "cacec1de",
   "metadata": {
    "ExecuteTime": {
     "end_time": "2024-01-30T10:48:19.613235Z",
     "start_time": "2024-01-30T10:48:19.604266Z"
    }
   },
   "outputs": [
    {
     "name": "stdout",
     "output_type": "stream",
     "text": [
      "READ ONLY! DO NOT EDIT!\n",
      "4-INIT 3-Wake 2-REM 1-NREM\n",
      "Save time: 2024-01-23 20:11:53\n",
      "Acquisition time: 2024-01-14 07:00:10\n",
      "Sampling rate: 305\n",
      "==========Marker==========\n",
      "==========Start-End==========\n",
      "==========Sleep stage==========\n",
      "14:07:00:10, 0, 1, 14:07:10:19, 609, 0, 3, Wake\n",
      "14:07:10:20, 610, 1, 14:07:10:32, 622, 0, 1, NREM\n"
     ]
    }
   ],
   "source": [
    "label_file_path = './data/mouse2_label.txt'\n",
    "label_file = open(label_file_path, 'r').read().split('\\n')\n",
    "print('\\n'.join(label_file[:10]))\n",
    "\n",
    "acquisition_time = datetime.datetime.strptime(\n",
    "    ' '.join(label_file[3].split(' ')[2:]), '%Y-%m-%d %H:%M:%S')\n",
    "sampling_rate = int(label_file[4].split(' ')[2])"
   ]
  },
  {
   "cell_type": "code",
   "execution_count": 159,
   "id": "16fab74a",
   "metadata": {
    "ExecuteTime": {
     "end_time": "2024-01-30T10:48:20.262402Z",
     "start_time": "2024-01-30T10:48:20.250442Z"
    }
   },
   "outputs": [],
   "source": [
    "# Get the sleep stage dataframe\n",
    "columns = ['start_time', 'start_time_sec', 'start_code',\n",
    "           'end_time', 'end_time_sec', 'end_code',\n",
    "           'state_code', 'state']\n",
    "sleep_stage = label_file[label_file.index('==========Sleep stage==========')+1: ]\n",
    "df = pd.DataFrame(data=sleep_stage, columns=['string'])\n",
    "df = df['string'].str.split(', ', expand=True)\n",
    "df.columns = columns"
   ]
  },
  {
   "cell_type": "code",
   "execution_count": 160,
   "id": "cbbecb2c",
   "metadata": {
    "ExecuteTime": {
     "end_time": "2024-01-30T10:48:20.781666Z",
     "start_time": "2024-01-30T10:48:20.755752Z"
    }
   },
   "outputs": [
    {
     "data": {
      "text/html": [
       "<div>\n",
       "<style scoped>\n",
       "    .dataframe tbody tr th:only-of-type {\n",
       "        vertical-align: middle;\n",
       "    }\n",
       "\n",
       "    .dataframe tbody tr th {\n",
       "        vertical-align: top;\n",
       "    }\n",
       "\n",
       "    .dataframe thead th {\n",
       "        text-align: right;\n",
       "    }\n",
       "</style>\n",
       "<table border=\"1\" class=\"dataframe\">\n",
       "  <thead>\n",
       "    <tr style=\"text-align: right;\">\n",
       "      <th></th>\n",
       "      <th>start_time</th>\n",
       "      <th>start_time_sec</th>\n",
       "      <th>start_code</th>\n",
       "      <th>end_time</th>\n",
       "      <th>end_time_sec</th>\n",
       "      <th>end_code</th>\n",
       "      <th>state_code</th>\n",
       "      <th>state</th>\n",
       "    </tr>\n",
       "  </thead>\n",
       "  <tbody>\n",
       "    <tr>\n",
       "      <th>0</th>\n",
       "      <td>2024-01-14 07:00:10</td>\n",
       "      <td>1</td>\n",
       "      <td>1</td>\n",
       "      <td>2024-01-14 07:10:19</td>\n",
       "      <td>609</td>\n",
       "      <td>0</td>\n",
       "      <td>3</td>\n",
       "      <td>Wake</td>\n",
       "    </tr>\n",
       "    <tr>\n",
       "      <th>1</th>\n",
       "      <td>2024-01-14 07:10:20</td>\n",
       "      <td>610</td>\n",
       "      <td>1</td>\n",
       "      <td>2024-01-14 07:10:32</td>\n",
       "      <td>622</td>\n",
       "      <td>0</td>\n",
       "      <td>1</td>\n",
       "      <td>NREM</td>\n",
       "    </tr>\n",
       "    <tr>\n",
       "      <th>2</th>\n",
       "      <td>2024-01-14 07:10:33</td>\n",
       "      <td>623</td>\n",
       "      <td>1</td>\n",
       "      <td>2024-01-14 07:13:49</td>\n",
       "      <td>819</td>\n",
       "      <td>0</td>\n",
       "      <td>3</td>\n",
       "      <td>Wake</td>\n",
       "    </tr>\n",
       "    <tr>\n",
       "      <th>3</th>\n",
       "      <td>2024-01-14 07:13:50</td>\n",
       "      <td>820</td>\n",
       "      <td>1</td>\n",
       "      <td>2024-01-14 07:14:04</td>\n",
       "      <td>834</td>\n",
       "      <td>0</td>\n",
       "      <td>1</td>\n",
       "      <td>NREM</td>\n",
       "    </tr>\n",
       "    <tr>\n",
       "      <th>4</th>\n",
       "      <td>2024-01-14 07:14:05</td>\n",
       "      <td>835</td>\n",
       "      <td>1</td>\n",
       "      <td>2024-01-14 07:14:19</td>\n",
       "      <td>849</td>\n",
       "      <td>0</td>\n",
       "      <td>3</td>\n",
       "      <td>Wake</td>\n",
       "    </tr>\n",
       "  </tbody>\n",
       "</table>\n",
       "</div>"
      ],
      "text/plain": [
       "            start_time  start_time_sec start_code             end_time  \\\n",
       "0  2024-01-14 07:00:10               1          1  2024-01-14 07:10:19   \n",
       "1  2024-01-14 07:10:20             610          1  2024-01-14 07:10:32   \n",
       "2  2024-01-14 07:10:33             623          1  2024-01-14 07:13:49   \n",
       "3  2024-01-14 07:13:50             820          1  2024-01-14 07:14:04   \n",
       "4  2024-01-14 07:14:05             835          1  2024-01-14 07:14:19   \n",
       "\n",
       "   end_time_sec end_code state_code state  \n",
       "0           609        0          3  Wake  \n",
       "1           622        0          1  NREM  \n",
       "2           819        0          3  Wake  \n",
       "3           834        0          1  NREM  \n",
       "4           849        0          3  Wake  "
      ]
     },
     "execution_count": 160,
     "metadata": {},
     "output_type": "execute_result"
    }
   ],
   "source": [
    "# Transfer the start and end time to datetime format\n",
    "df['start_time'] = df['start_time_sec'].apply(\n",
    "    lambda x: transfer_time(acquisition_time, int(x), '%Y-%m-%d %H:%M:%S'))\n",
    "\n",
    "df['end_time'] = df['end_time_sec'].apply(\n",
    "    lambda x: transfer_time(acquisition_time, int(x), '%Y-%m-%d %H:%M:%S'))\n",
    "\n",
    "# Change the data type\n",
    "df['start_time_sec'] = df['start_time_sec'].astype(int)\n",
    "df['end_time_sec'] = df['end_time_sec'].astype(int)\n",
    "\n",
    "lst = df['start_time_sec'].copy()\n",
    "lst[0] = 1\n",
    "df['start_time_sec'] = lst\n",
    "\n",
    "df.head()"
   ]
  },
  {
   "cell_type": "code",
   "execution_count": 161,
   "id": "313f7ef8",
   "metadata": {
    "ExecuteTime": {
     "end_time": "2024-01-30T10:48:23.705855Z",
     "start_time": "2024-01-30T10:48:23.240413Z"
    }
   },
   "outputs": [],
   "source": [
    "# Only 2 possible situations, one is end_time_sec % 3600 == 0\n",
    "# The other one is int(end_time_sec/3600) > int(start_time_sec/3600)\n",
    "new_df = pd.DataFrame(columns=columns)\n",
    "for idx, row in df.iterrows():\n",
    "    if row['end_time_sec']%3600 == 0:\n",
    "        new_df = insert_row(new_df, idx, row)\n",
    "        # Just add a row and nothing else\n",
    "        new_row = pd.Series([\n",
    "            row['end_time'], row['end_time_sec'], ' ',\n",
    "            row['end_time'], row['end_time_sec'], '5',\n",
    "            ' ', 'MARKER'\n",
    "        ], index=columns)\n",
    "        new_df = insert_row(new_df, new_df.shape[0], row)\n",
    "        continue\n",
    "        \n",
    "    if int(row['end_time_sec']/3600) > int(row['start_time_sec']/3600):\n",
    "        seconds_ = (int(row['start_time_sec']/3600)+1)*3600\n",
    "        previous_row = pd.Series([\n",
    "            row['start_time'], row['start_time_sec'], '1',\n",
    "            transfer_time(acquisition_time, seconds_,'%Y-%m-%d %H:%M:%S'),\n",
    "            seconds_, '0', row['state_code'], row['state']\n",
    "        ], index=columns)\n",
    "        \n",
    "        new_row = pd.Series([\n",
    "            transfer_time(acquisition_time, seconds_,'%Y-%m-%d %H:%M:%S'), \n",
    "            seconds_, ' ',\n",
    "            transfer_time(acquisition_time, seconds_,'%Y-%m-%d %H:%M:%S'), \n",
    "            seconds_, ' ', '5', 'MARKER'\n",
    "        ], index=columns)\n",
    "        \n",
    "        below_row = pd.Series([\n",
    "            transfer_time(acquisition_time, seconds_+1,'%Y-%m-%d %H:%M:%S'),\n",
    "            seconds_+1, '1', row['end_time'], row['end_time_sec'], \n",
    "            '0', row['state_code'], row['state']\n",
    "        ], index=columns)\n",
    "        \n",
    "        \n",
    "        new_df = insert_row(new_df, new_df.shape[0], previous_row)\n",
    "        new_df = insert_row(new_df, new_df.shape[0], new_row)\n",
    "        while int(below_row['end_time_sec']/3600) > int(below_row['start_time_sec']/3600):\n",
    "            row = below_row\n",
    "            seconds_ = (int(row['start_time_sec']/3600)+1)*3600\n",
    "            previous_row = pd.Series([\n",
    "                row['start_time'], row['start_time_sec'], '1',\n",
    "                transfer_time(acquisition_time, seconds_,'%Y-%m-%d %H:%M:%S'),\n",
    "                seconds_, '0', row['state_code'], row['state']\n",
    "            ], index=columns)\n",
    "\n",
    "            new_row = pd.Series([\n",
    "                transfer_time(acquisition_time, seconds_,'%Y-%m-%d %H:%M:%S'), \n",
    "                seconds_, ' ',\n",
    "                transfer_time(acquisition_time, seconds_,'%Y-%m-%d %H:%M:%S'), \n",
    "                seconds_, ' ', '5', 'MARKER'\n",
    "            ], index=columns)\n",
    "\n",
    "            below_row = pd.Series([\n",
    "                transfer_time(acquisition_time, seconds_+1,'%Y-%m-%d %H:%M:%S'),\n",
    "                seconds_+1, '1', row['end_time'], row['end_time_sec'], \n",
    "                '0', row['state_code'], row['state']\n",
    "            ], index=columns)\n",
    "            new_df = insert_row(new_df, new_df.shape[0], previous_row)\n",
    "            new_df = insert_row(new_df, new_df.shape[0], new_row)\n",
    "            \n",
    "        new_df = insert_row(new_df, new_df.shape[0], below_row)\n",
    "        continue\n",
    "    \n",
    "    new_df = insert_row(new_df, new_df.shape[0], row)\n",
    "    \n",
    "df = new_df\n",
    "del new_df\n",
    "\n",
    "df['bout_duration'] = df.apply(\n",
    "    lambda x: x[4]-x[1] + 1 if x[7] !='MARKER' else '', axis=1)"
   ]
  },
  {
   "cell_type": "code",
   "execution_count": 97,
   "id": "b35e1266",
   "metadata": {
    "ExecuteTime": {
     "end_time": "2024-01-30T10:13:33.416720Z",
     "start_time": "2024-01-30T10:13:33.406754Z"
    }
   },
   "outputs": [],
   "source": [
    "df.to_csv('./data/test.csv')"
   ]
  },
  {
   "cell_type": "code",
   "execution_count": 163,
   "id": "d738c880",
   "metadata": {
    "ExecuteTime": {
     "end_time": "2024-01-30T10:49:31.041440Z",
     "start_time": "2024-01-30T10:49:30.951983Z"
    }
   },
   "outputs": [],
   "source": [
    "# Analysis for each hour\n",
    "df['hour'] = df['start_time_sec'].apply(lambda x: int(x/3600) if x%3600!=0 else '')\n",
    "analyse_df = pd.DataFrame()\n",
    "\n",
    "analyse_df['date_time'] = [df['start_time'][0]] + list(df[df['state']=='MARKER']['start_time'])\n",
    "\n",
    "features = []\n",
    "for each in df[df['state'] != 'MARKER'].groupby('hour'):\n",
    "    df_ = each[1]\n",
    "    temp_lst = []\n",
    "    for phase in [\"NREM\", \"REM\", \"Wake\", \"INIT\"]:\n",
    "        _duration = df_[df_[\"state\"] == phase][\"bout_duration\"].sum()\n",
    "        _bout = df_[df_[\"state\"] == phase][\"bout_duration\"].count()\n",
    "        temp_lst += [_duration, _bout, round(_duration / _bout, 2) \n",
    "                     if _bout != 0 else 0, round(_duration / 3600, 2)]\n",
    "    features.append(temp_lst)\n",
    "        \n",
    "analyse_df[['NREM_duration', 'NREM_bout', \"NREM_ave\", \"NREM_percentage\", \n",
    "            'REM_duration', 'REM_bout', \"REM_ave\", \"REM_percentage\", \n",
    "            'WAKE_duration', 'WAKE_bout', \"WAKE_ave\", \"WAKE_percentage\", \n",
    "            'INIT_duration', 'INIT_bout', \"INIT_ave\", \"INIT_percentage\"]] = features\n",
    "\n",
    "analyse_df[\n",
    "    ['NREM_duration', 'NREM_bout', 'REM_duration', 'REM_bout', 'WAKE_duration', \n",
    "     'WAKE_bout', 'INIT_duration', 'INIT_bout']\n",
    "] = analyse_df[\n",
    "    ['NREM_duration', 'NREM_bout', 'REM_duration', 'REM_bout', 'WAKE_duration', \n",
    "     'WAKE_bout', 'INIT_duration', 'INIT_bout']].astype(int)"
   ]
  },
  {
   "cell_type": "code",
   "execution_count": 165,
   "id": "06739da3",
   "metadata": {
    "ExecuteTime": {
     "end_time": "2024-01-30T10:49:38.708108Z",
     "start_time": "2024-01-30T10:49:38.395151Z"
    }
   },
   "outputs": [],
   "source": [
    "writer = pd.ExcelWriter('./data/result.xlsx', datetime_format='yyyy-mm-dd hh:mm:ss')\n",
    "pd.concat([df, analyse_df], axis=1).to_excel(\n",
    "    excel_writer=writer, sheet_name='All', index=False)\n",
    "\n",
    "writer.close()"
   ]
  }
 ],
 "metadata": {
  "kernelspec": {
   "display_name": "Python 3 (ipykernel)",
   "language": "python",
   "name": "python3"
  },
  "language_info": {
   "codemirror_mode": {
    "name": "ipython",
    "version": 3
   },
   "file_extension": ".py",
   "mimetype": "text/x-python",
   "name": "python",
   "nbconvert_exporter": "python",
   "pygments_lexer": "ipython3",
   "version": "3.8.17"
  },
  "toc": {
   "base_numbering": 1,
   "nav_menu": {},
   "number_sections": true,
   "sideBar": true,
   "skip_h1_title": false,
   "title_cell": "Table of Contents",
   "title_sidebar": "Contents",
   "toc_cell": true,
   "toc_position": {
    "height": "calc(100% - 180px)",
    "left": "10px",
    "top": "150px",
    "width": "165px"
   },
   "toc_section_display": true,
   "toc_window_display": false
  }
 },
 "nbformat": 4,
 "nbformat_minor": 5
}
