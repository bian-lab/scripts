{
 "cells": [
  {
   "cell_type": "code",
   "execution_count": 19,
   "metadata": {},
   "outputs": [
    {
     "data": {
      "text/plain": [
       "'Start'"
      ]
     },
     "execution_count": 19,
     "metadata": {},
     "output_type": "execute_result"
    }
   ],
   "source": [
    "a = open(r'E:\\workplace\\EEGProcessing\\00_DATA\\medusa\\example_data\\15_48_32_055\\15_48_32_055_sleep.txt', 'r').read()\n",
    "a[:5]\n",
    "file = a.readlines()\n",
    "len(file)"
   ]
  },
  {
   "cell_type": "code",
   "execution_count": 3,
   "metadata": {},
   "outputs": [
    {
     "data": {
      "text/plain": [
       "['07:49:31',\n",
       " 'AW',\n",
       " '4',\n",
       " '987',\n",
       " 'acc',\n",
       " '8.542264',\n",
       " 'emg',\n",
       " '26.900623',\n",
       " '未',\n",
       " '41.348061',\n",
       " '胃',\n",
       " '40.312325',\n",
       " '伪',\n",
       " '32.404953\\n']"
      ]
     },
     "execution_count": 3,
     "metadata": {},
     "output_type": "execute_result"
    }
   ],
   "source": [
    "file[2].split('\\t')"
   ]
  },
  {
   "cell_type": "code",
   "execution_count": 4,
   "metadata": {},
   "outputs": [],
   "source": [
    "file = file[2:]"
   ]
  },
  {
   "cell_type": "code",
   "execution_count": 5,
   "metadata": {},
   "outputs": [],
   "source": [
    "state_list = [each.split('\\t')[1] for each in file]"
   ]
  },
  {
   "cell_type": "code",
   "execution_count": 6,
   "metadata": {},
   "outputs": [],
   "source": [
    "state_list = [[each]*4 for each in state_list]\n",
    "state_list = [item for each in state_list for item in each]"
   ]
  },
  {
   "cell_type": "code",
   "execution_count": 7,
   "metadata": {},
   "outputs": [
    {
     "data": {
      "text/plain": [
       "{'AW', 'NREM', 'QW', 'REMS'}"
      ]
     },
     "execution_count": 7,
     "metadata": {},
     "output_type": "execute_result"
    }
   ],
   "source": [
    "set(state_list)"
   ]
  },
  {
   "cell_type": "code",
   "execution_count": 8,
   "metadata": {},
   "outputs": [],
   "source": [
    "state_map = {\n",
    "    'AW': 3,\n",
    "    'QW': 3,\n",
    "    'NREM': 1,\n",
    "    'REMS': 2\n",
    "}\n",
    "\n",
    "state_list = [state_map[each] for each in state_list]"
   ]
  },
  {
   "cell_type": "code",
   "execution_count": 11,
   "metadata": {},
   "outputs": [],
   "source": [
    "import misleep\n",
    "import pyedflib"
   ]
  },
  {
   "cell_type": "code",
   "execution_count": 15,
   "metadata": {},
   "outputs": [],
   "source": [
    "anno = misleep.MiAnnotation(sleep_state=state_list, marker=[], start_end=[])"
   ]
  },
  {
   "cell_type": "code",
   "execution_count": 16,
   "metadata": {},
   "outputs": [],
   "source": [
    "signals, signal_headers, meta = pyedflib.highlevel.read_edf(edf_file=r'E:\\workplace\\EEGProcessing\\00_DATA\\medusa\\example_data\\15_48_32_055\\15_48_32_055-0.edf')\n",
    "\n",
    "data = misleep.MiData(signals=signals,\n",
    "                channels=[each['label'] for each in signal_headers],\n",
    "                sf=[each['sample_frequency'] for each in signal_headers],\n",
    "                time=meta['startdate'].strftime('%Y%m%d-%H:%M:%S'))\n"
   ]
  },
  {
   "cell_type": "code",
   "execution_count": 17,
   "metadata": {},
   "outputs": [],
   "source": [
    "save_thread = misleep.SaveThread(file=[anno, data], \n",
    "                                 file_path=r'E:\\workplace\\EEGProcessing\\00_DATA\\medusa\\example_data\\15_48_32_055\\label.txt')\n",
    "saved = save_thread.save_anno()\n",
    "save_thread.quit()"
   ]
  }
 ],
 "metadata": {
  "kernelspec": {
   "display_name": "Python 3",
   "language": "python",
   "name": "python3"
  },
  "language_info": {
   "codemirror_mode": {
    "name": "ipython",
    "version": 3
   },
   "file_extension": ".py",
   "mimetype": "text/x-python",
   "name": "python",
   "nbconvert_exporter": "python",
   "pygments_lexer": "ipython3",
   "version": "3.8.17"
  },
  "orig_nbformat": 4
 },
 "nbformat": 4,
 "nbformat_minor": 2
}
