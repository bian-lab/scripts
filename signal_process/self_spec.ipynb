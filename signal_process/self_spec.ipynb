{
 "cells": [
  {
   "cell_type": "markdown",
   "id": "42aec090",
   "metadata": {
    "toc": true
   },
   "source": [
    "<h1>Table of Contents<span class=\"tocSkip\"></span></h1>\n",
    "<div class=\"toc\"><ul class=\"toc-item\"></ul></div>"
   ]
  },
  {
   "cell_type": "code",
   "execution_count": 3,
   "id": "2c32e132",
   "metadata": {
    "ExecuteTime": {
     "end_time": "2024-01-16T06:37:59.841920Z",
     "start_time": "2024-01-16T06:37:59.824117Z"
    }
   },
   "outputs": [],
   "source": [
    "import numpy as np\n",
    "from scipy.signal._spectral_py import _spectral_helper"
   ]
  },
  {
   "cell_type": "code",
   "execution_count": null,
   "id": "058940f4",
   "metadata": {},
   "outputs": [],
   "source": [
    "def csd(x, sf=1.0, window='hann', nperseg=None, noverlap=None,\n",
    "         scaling='density', average='mean'):\n",
    "    \"\"\"\n",
    "    Estimate the cross power spectral density, Px, using Welch's method\n",
    "    \n",
    "    Drived from sicpy.signal.csd\n",
    "    \n",
    "    Parameters\n",
    "    ----------\n",
    "    x : array_like\n",
    "        Time series of measurement values\n",
    "    sf : float, optional\n",
    "        Sampling frequency of the 'x' time series. Defaults to 1.0\n",
    "    window : str or tuple or array_like, optional\n",
    "        Desired window to use. If 'window' is a string or tuple, it is\n",
    "        passed to 'get_window' to generate the window values, which are \n",
    "        DFT-even by default. See 'get_window' for a list of windows and \n",
    "        required parameters. If 'window' is array_like it will be used \n",
    "        directly as the window and its length must be nperseg. Defaults\n",
    "        to a Hann window.\n",
    "    nperseg : int, optional\n",
    "        Length of each segment. Defaults to None, but if window is str or\n",
    "        tuple, is set to 256, and if window is array_like, is set ot the\n",
    "        length of the window.\n",
    "    noverlap : int, optional\n",
    "        Number of points to overlap between segments. If 'None',\n",
    "        ''noverlap = nperseg // 2''. Defaults to 'None'.\n",
    "    scaling : {'density', 'spectrum'}, optional\n",
    "        Selects between computing the cross spectral density ('density')\n",
    "        where 'Px' has units of V**2/Hz and computing the cross spectrum\n",
    "        ('spectrum') where 'Px' has units of V**2, if 'x' is measured in V\n",
    "        and 'sf' is measured in Hz. Default to 'density'\n",
    "    average : {'mean', 'median'}, optional\n",
    "        Method to use when averaging periodograms. If the spectrum is complex, \n",
    "        the average is computed separately for the real and imaginary parts. \n",
    "        Defaults to 'mean'.\n",
    "        \n",
    "        .. versionadded:: 1.0.0\n",
    "    \n",
    "    Returns\n",
    "    ----------\n",
    "    f : ndarray\n",
    "        Array of sample frequencies.\n",
    "    Px : ndarray\n",
    "        Cross spectral density or cross power spectrum of x\n",
    "\n",
    "    \"\"\"\n",
    "    \n",
    "    freq, _, Px = _spectral_helper(x, x, sf, window, nperseg, noverlap, nfft=None, \n",
    "                                   detrend='constant', return_onesided=True, \n",
    "                                    scaling, axis=-1, mode='psd')\n",
    "    \n",
    "    # Average over windows.\n",
    "    if len(Px.shape) >= 1 and Px.size > 0:\n",
    "        \n",
    "    \n",
    "    "
   ]
  }
 ],
 "metadata": {
  "kernelspec": {
   "display_name": "Python 3 (ipykernel)",
   "language": "python",
   "name": "python3"
  },
  "language_info": {
   "codemirror_mode": {
    "name": "ipython",
    "version": 3
   },
   "file_extension": ".py",
   "mimetype": "text/x-python",
   "name": "python",
   "nbconvert_exporter": "python",
   "pygments_lexer": "ipython3",
   "version": "3.8.17"
  },
  "toc": {
   "base_numbering": 1,
   "nav_menu": {},
   "number_sections": true,
   "sideBar": true,
   "skip_h1_title": false,
   "title_cell": "Table of Contents",
   "title_sidebar": "Contents",
   "toc_cell": true,
   "toc_position": {},
   "toc_section_display": true,
   "toc_window_display": false
  }
 },
 "nbformat": 4,
 "nbformat_minor": 5
}
