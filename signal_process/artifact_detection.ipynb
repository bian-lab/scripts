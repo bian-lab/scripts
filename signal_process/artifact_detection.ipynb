{
 "cells": [
  {
   "cell_type": "markdown",
   "id": "88fb1e16",
   "metadata": {
    "toc": true
   },
   "source": [
    "<h1>Table of Contents<span class=\"tocSkip\"></span></h1>\n",
    "<div class=\"toc\"><ul class=\"toc-item\"></ul></div>"
   ]
  },
  {
   "cell_type": "markdown",
   "id": "d72a37e1",
   "metadata": {},
   "source": [
    "### Use yasa detection"
   ]
  },
  {
   "cell_type": "code",
   "execution_count": 1,
   "id": "1a7ae52f",
   "metadata": {},
   "outputs": [
    {
     "name": "stdout",
     "output_type": "stream",
     "text": [
      "e:\\workplace\\scripts\\signal_process\n"
     ]
    }
   ],
   "source": [
    "import misleep \n",
    "import yasa"
   ]
  },
  {
   "cell_type": "code",
   "execution_count": 55,
   "id": "76e807ae",
   "metadata": {},
   "outputs": [],
   "source": [
    "data = misleep.load_mat(data_path=r'E:\\workplace\\EEGProcessing\\00_DATA\\20240128_0700_24h_mouse5_6pin_M_P37\\mouse5_new.mat')"
   ]
  },
  {
   "cell_type": "code",
   "execution_count": 56,
   "id": "04091722",
   "metadata": {},
   "outputs": [
    {
     "data": {
      "text/plain": [
       "[305.0, 305.0, 305.0, 305.0, 305.0, 305.0, 305.0]"
      ]
     },
     "execution_count": 56,
     "metadata": {},
     "output_type": "execute_result"
    }
   ],
   "source": [
    "data.sf"
   ]
  },
  {
   "cell_type": "code",
   "execution_count": 68,
   "id": "84be16e5",
   "metadata": {},
   "outputs": [],
   "source": [
    "art, zscores = yasa.art_detect(data.signals[0], data.sf[0], window=5, method='std', threshold=1)"
   ]
  },
  {
   "cell_type": "code",
   "execution_count": 63,
   "id": "2e45a277",
   "metadata": {},
   "outputs": [
    {
     "data": {
      "text/plain": [
       "17280"
      ]
     },
     "execution_count": 63,
     "metadata": {},
     "output_type": "execute_result"
    }
   ],
   "source": [
    "len(art)"
   ]
  },
  {
   "cell_type": "code",
   "execution_count": 62,
   "id": "5e79f56a",
   "metadata": {},
   "outputs": [
    {
     "data": {
      "text/plain": [
       "array([ True,  True,  True,  True,  True,  True,  True,  True,  True,\n",
       "        True])"
      ]
     },
     "execution_count": 62,
     "metadata": {},
     "output_type": "execute_result"
    }
   ],
   "source": [
    "art[:10]"
   ]
  },
  {
   "cell_type": "code",
   "execution_count": 38,
   "id": "ad02f0b3",
   "metadata": {},
   "outputs": [],
   "source": [
    "a = art[:10]\n",
    "a = [[each]*5 for each in a]"
   ]
  },
  {
   "cell_type": "code",
   "execution_count": 44,
   "id": "423e0b65",
   "metadata": {},
   "outputs": [],
   "source": [
    "data = data.signals[0]"
   ]
  },
  {
   "cell_type": "code",
   "execution_count": 46,
   "id": "67b2d80f",
   "metadata": {},
   "outputs": [
    {
     "data": {
      "text/plain": [
       "86400.0"
      ]
     },
     "execution_count": 46,
     "metadata": {},
     "output_type": "execute_result"
    }
   ],
   "source": [
    "data.shape[0]/305.0"
   ]
  },
  {
   "cell_type": "code",
   "execution_count": 69,
   "id": "16d3aba5",
   "metadata": {},
   "outputs": [],
   "source": [
    "import numpy as np\n",
    "art = np.repeat(art, int(5*305))"
   ]
  },
  {
   "cell_type": "code",
   "execution_count": 71,
   "id": "7a638107",
   "metadata": {},
   "outputs": [
    {
     "data": {
      "text/plain": [
       "(26352000,)"
      ]
     },
     "execution_count": 71,
     "metadata": {},
     "output_type": "execute_result"
    }
   ],
   "source": [
    "data.signals[0].shape"
   ]
  },
  {
   "cell_type": "code",
   "execution_count": 82,
   "id": "88e371ba",
   "metadata": {},
   "outputs": [
    {
     "data": {
      "text/plain": [
       "26352000"
      ]
     },
     "execution_count": 82,
     "metadata": {},
     "output_type": "execute_result"
    }
   ],
   "source": [
    "art.shape[0]"
   ]
  },
  {
   "cell_type": "code",
   "execution_count": 81,
   "id": "f0a503d2",
   "metadata": {},
   "outputs": [
    {
     "name": "stdout",
     "output_type": "stream",
     "text": [
      "[1 1 1 1 1 1 1] [ True  True  True  True False False False]\n",
      "[1 1 1 1]\n"
     ]
    }
   ],
   "source": [
    "a = np.array([1,1,1,1,1,1,1])\n",
    "b = np.array([1,1,1,1,0,0,0])\n",
    "b = b.astype(bool)\n",
    "\n",
    "print(a, b)\n",
    "a = a[b]\n",
    "print(a)"
   ]
  },
  {
   "cell_type": "code",
   "execution_count": 78,
   "id": "bc333681",
   "metadata": {},
   "outputs": [
    {
     "data": {
      "text/plain": [
       "nan"
      ]
     },
     "execution_count": 78,
     "metadata": {},
     "output_type": "execute_result"
    }
   ],
   "source": [
    "np.nan"
   ]
  },
  {
   "cell_type": "code",
   "execution_count": 22,
   "id": "bbe0c178",
   "metadata": {},
   "outputs": [
    {
     "name": "stdout",
     "output_type": "stream",
     "text": [
      "257 / 17280 epochs rejected\n"
     ]
    }
   ],
   "source": [
    "print(f'{art.sum()} / {art.size} epochs rejected')"
   ]
  },
  {
   "cell_type": "code",
   "execution_count": 23,
   "id": "bc1ae367",
   "metadata": {},
   "outputs": [],
   "source": [
    "anno = misleep.load_misleep_anno(r'E:\\workplace\\EEGProcessing\\00_DATA\\20240128_0700_24h_mouse5_6pin_M_P37\\mouse5_new.txt')"
   ]
  },
  {
   "cell_type": "code",
   "execution_count": 24,
   "id": "cfef9dd2",
   "metadata": {},
   "outputs": [],
   "source": [
    "art_num = [[1]*5 if each else [0]*5 for each in art]\n",
    "art_num = [each for item in art_num for each in item]"
   ]
  },
  {
   "cell_type": "code",
   "execution_count": 25,
   "id": "92ddb8e3",
   "metadata": {},
   "outputs": [
    {
     "data": {
      "text/plain": [
       "1285"
      ]
     },
     "execution_count": 25,
     "metadata": {},
     "output_type": "execute_result"
    }
   ],
   "source": [
    "sum(art_num)"
   ]
  },
  {
   "cell_type": "code",
   "execution_count": 26,
   "id": "1861597f",
   "metadata": {},
   "outputs": [
    {
     "data": {
      "text/plain": [
       "86400"
      ]
     },
     "execution_count": 26,
     "metadata": {},
     "output_type": "execute_result"
    }
   ],
   "source": [
    "len(art_num)"
   ]
  },
  {
   "cell_type": "code",
   "execution_count": 27,
   "id": "9fa0f43e",
   "metadata": {},
   "outputs": [],
   "source": [
    "sleep_state = [each if art_num[idx] == 0 else 4 for idx, each in enumerate(anno.sleep_state[:86400])]"
   ]
  },
  {
   "cell_type": "code",
   "execution_count": 28,
   "id": "5060b4bc",
   "metadata": {},
   "outputs": [
    {
     "data": {
      "text/plain": [
       "(<Figure size 2000x300 with 1 Axes>, <Axes: >)"
      ]
     },
     "execution_count": 28,
     "metadata": {},
     "output_type": "execute_result"
    },
    {
     "data": {
      "image/png": "[encoded data removed]",
      "text/plain": [
       "<Figure size 2000x300 with 1 Axes>"
      ]
     },
     "metadata": {},
     "output_type": "display_data"
    }
   ],
   "source": [
    "misleep.plot_hypno(anno.sleep_state)"
   ]
  },
  {
   "cell_type": "code",
   "execution_count": 29,
   "id": "668e657d",
   "metadata": {},
   "outputs": [
    {
     "data": {
      "text/plain": [
       "(<Figure size 2000x300 with 1 Axes>, <Axes: >)"
      ]
     },
     "execution_count": 29,
     "metadata": {},
     "output_type": "execute_result"
    },
    {
     "data": {
      "image/png": "[encoded data removed]",
      "text/plain": [
       "<Figure size 2000x300 with 1 Axes>"
      ]
     },
     "metadata": {},
     "output_type": "display_data"
    }
   ],
   "source": [
    "misleep.plot_hypno(sleep_state=sleep_state)"
   ]
  },
  {
   "cell_type": "code",
   "execution_count": 92,
   "id": "d437afbd",
   "metadata": {},
   "outputs": [],
   "source": [
    "anno._sleep_state = sleep_state"
   ]
  },
  {
   "cell_type": "code",
   "execution_count": 93,
   "id": "7680263b",
   "metadata": {},
   "outputs": [],
   "source": [
    "save_thread = misleep.SaveThread(file=[anno, data], \n",
    "                                 file_path=r'E:\\workplace\\EEGProcessing\\00_DATA\\20240128_0700_24h_mouse5_6pin_M_P37\\mouse5_new_art.txt')\n",
    "saved = save_thread.save_anno()\n",
    "save_thread.quit()"
   ]
  },
  {
   "cell_type": "code",
   "execution_count": 94,
   "id": "e2ca60f2",
   "metadata": {},
   "outputs": [],
   "source": [
    "import numpy as np"
   ]
  },
  {
   "cell_type": "code",
   "execution_count": 100,
   "id": "1e6f014b",
   "metadata": {},
   "outputs": [],
   "source": [
    "a = open(r'F:/师姐2.Tif', 'r')"
   ]
  },
  {
   "cell_type": "code",
   "execution_count": 3,
   "id": "22ed68c7",
   "metadata": {},
   "outputs": [
    {
     "ename": "",
     "evalue": "",
     "output_type": "error",
     "traceback": [
      "\u001b[1;31mCannot execute code, session has been disposed. Please try restarting the Kernel."
     ]
    },
    {
     "ename": "",
     "evalue": "",
     "output_type": "error",
     "traceback": [
      "\u001b[1;31mThe Kernel crashed while executing code in the the current cell or a previous cell. Please review the code in the cell(s) to identify a possible cause of the failure. Click <a href='https://aka.ms/vscodeJupyterKernelCrash'>here</a> for more info. View Jupyter <a href='command:jupyter.viewOutput'>log</a> for further details."
     ]
    }
   ],
   "source": [
    "from PIL import Image\n",
    "im = Image.open(r'F:/师姐2.Tif')\n",
    "im.show()"
   ]
  }
 ],
 "metadata": {
  "kernelspec": {
   "display_name": "Python 3 (ipykernel)",
   "language": "python",
   "name": "python3"
  },
  "language_info": {
   "codemirror_mode": {
    "name": "ipython",
    "version": 3
   },
   "file_extension": ".py",
   "mimetype": "text/x-python",
   "name": "python",
   "nbconvert_exporter": "python",
   "pygments_lexer": "ipython3",
   "version": "3.8.17"
  },
  "toc": {
   "base_numbering": 1,
   "nav_menu": {},
   "number_sections": true,
   "sideBar": true,
   "skip_h1_title": false,
   "title_cell": "Table of Contents",
   "title_sidebar": "Contents",
   "toc_cell": true,
   "toc_position": {},
   "toc_section_display": true,
   "toc_window_display": true
  }
 },
 "nbformat": 4,
 "nbformat_minor": 5
}
