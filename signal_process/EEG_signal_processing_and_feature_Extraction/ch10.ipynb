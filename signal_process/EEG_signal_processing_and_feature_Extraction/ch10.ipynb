{
 "cells": [
  {
   "cell_type": "markdown",
   "id": "f5b0cdc0",
   "metadata": {
    "toc": true
   },
   "source": [
    "<h1>Table of Contents<span class=\"tocSkip\"></span></h1>\n",
    "<div class=\"toc\"><ul class=\"toc-item\"><li><span><a href=\"#非线性神经动力学\" data-toc-modified-id=\"非线性神经动力学-1\"><span class=\"toc-item-num\">1&nbsp;&nbsp;</span>非线性神经动力学</a></span><ul class=\"toc-item\"><li><span><a href=\"#非线性神经动力学简介\" data-toc-modified-id=\"非线性神经动力学简介-1.1\"><span class=\"toc-item-num\">1.1&nbsp;&nbsp;</span>非线性神经动力学简介</a></span></li><li><span><a href=\"#复杂度\" data-toc-modified-id=\"复杂度-1.2\"><span class=\"toc-item-num\">1.2&nbsp;&nbsp;</span>复杂度</a></span><ul class=\"toc-item\"><li><span><a href=\"#Lempel-Ziv复杂度\" data-toc-modified-id=\"Lempel-Ziv复杂度-1.2.1\"><span class=\"toc-item-num\">1.2.1&nbsp;&nbsp;</span>Lempel-Ziv复杂度</a></span></li></ul></li></ul></li></ul></div>"
   ]
  },
  {
   "cell_type": "markdown",
   "id": "a0307107",
   "metadata": {},
   "source": [
    "## 非线性神经动力学\n",
    "\n",
    "### 非线性神经动力学简介\n",
    "\n",
    "多种非线性算法 -> 提取脑电的非线性特征 -> 评估大脑活动状态。\n",
    "\n",
    "`复杂度` -> 通过复杂度分析来量化活动特性。复杂度分析主要反映的是信号在时间序列中的随机性程度。\n",
    "\n",
    "非线性复杂度方法：\n",
    "Lempel-Ziv复杂度（Lempel-Ziv complexity, LZC, 1976），反应了一个时间序列随着序列长度的增加出现新模式的速率。只考虑系统动态变化过程中活动模式的增加或减少，不受系统的不确定性与随机性影响。\n",
    "\n",
    "`熵` -> 不同熵算法从不同角度描述了信息的容量。谱熵（Spectral entropy, SpEn），基于熵的相空间重构方法以及排序熵（Permutation Entropy, PE）。\n",
    "\n",
    "`递归定量分析法`，`Lyapunov指数`，关联维度和去趋势波动分析等。"
   ]
  },
  {
   "cell_type": "markdown",
   "id": "cb306bc2",
   "metadata": {},
   "source": [
    "### 复杂度\n"
   ]
  },
  {
   "cell_type": "markdown",
   "id": "8c5947a0",
   "metadata": {},
   "source": [
    "#### Lempel-Ziv复杂度\n",
    "第一步是对序列进行粗理华处理，将信号${s(n)}$转换为几个符号的有限序列（通常转换为二进制序列$x(i)$）。这个过程通过比较信号的幅值和给定的阈值，进行二进制转换。\n",
    "\n",
    "1. $LZC_{mean}$\n",
    "\n",
    "使用信号的平均值作为阈值，记为$T_d$，通过信号的幅值和该阈值比较：\n",
    "$$\n",
    "x(i) = \\left\\{ \n",
    "\\begin{aligned}\n",
    "0,& & s(i) < T_d \\\\\n",
    "1,& &s(i) \\geq T_d \n",
    "\\end{aligned}\n",
    "\\right.\n",
    "$$\n",
    "\n",
    "2. $LZC_{median}$\n",
    "\n",
    "使用信号的中位数作为阈值，记为$T_d$，通过信号的幅值和该阈值比较：\n",
    "$$\n",
    "x(i) = \\left \\{\n",
    "\\begin{aligned}\n",
    "0, & & s(i) < T_d \\\\\n",
    "1, & & s(i) \\geq T_d\n",
    "\\end{aligned}\n",
    "\\right.\n",
    "$$\n",
    "\n",
    "3. $LZC_{mid_point}$\n",
    "\n",
    "此时幅值的中值取决于幅值的最大值$S_{max}$和最小值$S_{min}$，即：\n",
    "$$\n",
    "T_d = \\frac{S_{max}+S_{min}}{2}\n",
    "$$\n",
    "\n",
    "其余与$LZC_{median}$相同。\n",
    "\n",
    "4. $LZC_{K-means}$\n",
    "\n",
    "设置2个矩心分别为$Z_{1}(1) = s_m + \\epsilon \\times s_m$ 和 $Z_{2}(1) = s_m - \\epsilon \\times s_m$。$\\epsilon$会影响信号的稳定性，根据经验可取0.05。$s_m$表示幅值的平均值。则质心与数据之间的距离为：\n",
    "$$\n",
    "\\left\\{\n",
    "\\begin{aligned}\n",
    "D_1^i={||s(i)-z_1(1)||}^2 \\\\\n",
    "D_2^i={||s(i)-z_2(1)||}^2\n",
    "\\end{aligned}\n",
    "\\right.\n",
    "$$\n",
    "然后再将信号转换成二进制：\n",
    "$$\n",
    "x(i)=\\left\\{ \n",
    "\\begin{aligned}\n",
    "1 && if&& D_1^i < D_2^i \\\\\n",
    "0 && if&& D_2^i \\geq D_2^i\n",
    "\\end{aligned}\n",
    "\\right.\n",
    "$$\n"
   ]
  }
 ],
 "metadata": {
  "kernelspec": {
   "display_name": "Python 3 (ipykernel)",
   "language": "python",
   "name": "python3"
  },
  "language_info": {
   "codemirror_mode": {
    "name": "ipython",
    "version": 3
   },
   "file_extension": ".py",
   "mimetype": "text/x-python",
   "name": "python",
   "nbconvert_exporter": "python",
   "pygments_lexer": "ipython3",
   "version": "3.8.17"
  },
  "toc": {
   "base_numbering": 1,
   "nav_menu": {},
   "number_sections": true,
   "sideBar": true,
   "skip_h1_title": false,
   "title_cell": "Table of Contents",
   "title_sidebar": "Contents",
   "toc_cell": true,
   "toc_position": {},
   "toc_section_display": true,
   "toc_window_display": false
  }
 },
 "nbformat": 4,
 "nbformat_minor": 5
}
