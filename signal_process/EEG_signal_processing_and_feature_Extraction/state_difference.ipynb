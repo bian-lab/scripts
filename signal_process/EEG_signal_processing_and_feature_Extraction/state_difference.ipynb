{
 "cells": [
  {
   "cell_type": "code",
   "execution_count": 1,
   "metadata": {},
   "outputs": [
    {
     "name": "stdout",
     "output_type": "stream",
     "text": [
      "e:\\workplace\\scripts\\signal_process\\EEG_signal_processing_and_feature_Extraction\n"
     ]
    }
   ],
   "source": [
    "import misleep\n",
    "import matplotlib.pyplot as plt\n",
    "import numpy as np\n",
    "from scipy.stats import zscore"
   ]
  },
  {
   "cell_type": "code",
   "execution_count": 6,
   "metadata": {},
   "outputs": [],
   "source": [
    "data = misleep.load_mat(r'E:\\workplace\\EEGProcessing\\00_DATA\\LYT_20240612_070354\\mouse4\\mouse4.mat')\n",
    "anno = misleep.load_misleep_anno(r'E:\\workplace\\EEGProcessing\\00_DATA\\LYT_20240612_070354\\mouse4\\mouse4.txt')"
   ]
  },
  {
   "cell_type": "code",
   "execution_count": 10,
   "metadata": {},
   "outputs": [],
   "source": [
    "group_sleep_state = misleep.lst2group([[idx, state] for idx, state in enumerate(anno.sleep_state)])\n",
    "\n",
    "# extract three states' eeg\n",
    "wake_eeg_2 = [data.signals[1][int(each[0]*data.sf[1]): int(each[1]*data.sf[1])] for each in group_sleep_state if each[2] == 3]\n",
    "nrem_eeg_2 = [data.signals[1][int(each[0]*data.sf[1]): int(each[1]*data.sf[1])] for each in group_sleep_state if each[2] == 1]\n",
    "rem_eeg_2 = [data.signals[1][int(each[0]*data.sf[1]): int(each[1]*data.sf[1])] for each in group_sleep_state if each[2] == 2]\n",
    "\n",
    "wake_eeg_2 = [item for each in wake_eeg_2 for item in each]\n",
    "nrem_eeg_2 = [item for each in nrem_eeg_2 for item in each]\n",
    "rem_eeg_2 = [item for each in rem_eeg_2 for item in each]\n",
    "\n",
    "wake_freq_psd = misleep.spectrum(np.array(wake_eeg_2), data.sf[1], relative=False, win_sec=1)\n",
    "nrem_freq_psd = misleep.spectrum(np.array(nrem_eeg_2), data.sf[1], relative=False, win_sec=1)\n",
    "rem_freq_psd = misleep.spectrum(np.array(rem_eeg_2), data.sf[1], relative=False, win_sec=1)\n",
    "\n",
    "wake_power_ = list(misleep.band_power(wake_freq_psd[1], wake_freq_psd[0], \n",
    "                                      bands=[[0.5, 4, 'delta'], [4, 9, 'theta'], [8, 12, 'alpha']], \n",
    "                                      relative=True).values())\n",
    "\n",
    "nrem_power_ = list(misleep.band_power(nrem_freq_psd[1], nrem_freq_psd[0], \n",
    "                                      bands=[[0.5, 4, 'delta'], [4, 9, 'theta'], [8, 12, 'alpha']], \n",
    "                                      relative=True).values())\n",
    "\n",
    "rem_power_ = list(misleep.band_power(rem_freq_psd[1], rem_freq_psd[0], \n",
    "                                      bands=[[0.5, 4, 'delta'], [4, 9, 'theta'], [8, 12, 'alpha']], \n",
    "                                      relative=True).values())\n",
    "\n",
    "# EMG\n",
    "wake_emg = [data.signals[4][int(each[0]*data.sf[1]): int(each[1]*data.sf[1])] for each in group_sleep_state if each[2] == 3]\n",
    "nrem_emg = [data.signals[4][int(each[0]*data.sf[1]): int(each[1]*data.sf[1])] for each in group_sleep_state if each[2] == 1]\n",
    "rem_emg = [data.signals[4][int(each[0]*data.sf[1]): int(each[1]*data.sf[1])] for each in group_sleep_state if each[2] == 2]\n",
    "\n",
    "wake_emg = [item for each in wake_emg for item in each]\n",
    "nrem_emg = [item for each in nrem_emg for item in each]\n",
    "rem_emg = [item for each in rem_emg for item in each]\n",
    "\n",
    "all_emg = data.pick_chs(['EMG_DIFF']).signals[0]\n",
    "\n",
    "wake_emg_mean = np.mean(wake_emg)\n",
    "nrem_emg_mean = np.mean(nrem_emg)\n",
    "rem_emg_mean = np.mean(rem_emg)\n",
    "all_emg_mean = np.mean(all_emg)\n",
    "\n",
    "wake_emg_std = np.std(wake_emg)\n",
    "nrem_emg_std = np.std(nrem_emg)\n",
    "rem_emg_std = np.std(rem_emg)\n",
    "all_emg_std = np.std(all_emg)\n",
    "\n"
   ]
  },
  {
   "cell_type": "code",
   "execution_count": 12,
   "metadata": {},
   "outputs": [
    {
     "name": "stdout",
     "output_type": "stream",
     "text": [
      "wake alpha/delta: 0.49627046631391586\n",
      "wake theta/delta: 1.2996900061701084\n",
      "nrem theta/delta: 0.6468014921237017\n",
      "rem theta/delta: 3.8179174109656464\n",
      "\n",
      "wake_emg_mean: 9.140846413124848e-10, wake_emg_std: 2.7769914595410228e-05\n",
      "nrem_emg_mean: 7.773530950883067e-12, nrem_emg_std: 6.070151357562281e-06\n",
      "rem_emg_mean: -7.94566079598269e-11, rem_emg_std: 5.373273324948968e-06\n",
      "all_emg_mean: -2.2512433583976588e-10, all_emg_std: 2.2784752218285576e-05\n"
     ]
    }
   ],
   "source": [
    "print(f'wake alpha/delta: {wake_power_[2]/wake_power_[0]}')\n",
    "print(f'wake theta/delta: {wake_power_[1]/wake_power_[0]}')\n",
    "print(f'nrem theta/delta: {nrem_power_[1]/nrem_power_[0]}')\n",
    "print(f'rem theta/delta: {rem_power_[1]/rem_power_[0]}')\n",
    "\n",
    "print(f'\\nwake_emg_mean: {wake_emg_mean}, wake_emg_std: {wake_emg_std}')\n",
    "print(f'nrem_emg_mean: {nrem_emg_mean}, nrem_emg_std: {nrem_emg_std}')\n",
    "print(f'rem_emg_mean: {rem_emg_mean}, rem_emg_std: {rem_emg_std}')\n",
    "print(f'all_emg_mean: {all_emg_mean}, all_emg_std: {all_emg_std}')"
   ]
  },
  {
   "cell_type": "markdown",
   "metadata": {},
   "source": []
  },
  {
   "cell_type": "code",
   "execution_count": null,
   "metadata": {},
   "outputs": [],
   "source": [
    "EMG_DIFF = data.pick_chs(['EMG_DIFF']).signals[0]\n",
    "# Normalize\n",
    "EMG_DIFF_norm = zscore(EMG_DIFF)"
   ]
  },
  {
   "cell_type": "code",
   "execution_count": null,
   "metadata": {},
   "outputs": [],
   "source": [
    "# All 3 states' EMG\n",
    "all_emg_std = np.std(EMG_DIFF)\n",
    "all_emg_mean = np.mean(EMG_DIFF)\n",
    "\n",
    "wake_emg_std = np.std()\n"
   ]
  },
  {
   "cell_type": "code",
   "execution_count": null,
   "metadata": {},
   "outputs": [],
   "source": [
    "EMG_DIFF_MA = EMG_DIFF_norm[int(6611*data.sf[4]): int(6615*data.sf[4])]\n",
    "EMG_DIFF_NREM = EMG_DIFF_norm[int(35159*data.sf[4]): int(35164*data.sf[4])]\n",
    "EMG_DIFF_Wake = EMG_DIFF_norm[int(33978*data.sf[4]): int(33983*data.sf[4])]\n",
    "EMG_DIFF_REM = EMG_DIFF_norm[int(6742*data.sf[4]): int(6747*data.sf[4])]\n",
    "EMG_DIFF_Art = EMG_DIFF_norm[int(5450*data.sf[4]): int(5455*data.sf[4])]\n",
    "EMG_DIFF_quiet_wake = EMG_DIFF_norm[int(10221*data.sf[4]): int(10226*data.sf[4])]"
   ]
  },
  {
   "cell_type": "code",
   "execution_count": null,
   "metadata": {},
   "outputs": [],
   "source": [
    "# standard deviation\n",
    "display(np.std(EMG_DIFF_MA))\n",
    "display(np.std(EMG_DIFF_Wake))\n",
    "display(np.std(EMG_DIFF_NREM))\n",
    "display(np.std(EMG_DIFF_REM))\n",
    "display(np.std(EMG_DIFF_Art))\n",
    "display(np.std(EMG_DIFF_quiet_wake))\n",
    "\n",
    "display(np.std(EMG_DIFF_norm))"
   ]
  },
  {
   "cell_type": "code",
   "execution_count": null,
   "metadata": {},
   "outputs": [],
   "source": [
    "EMG_DIFF_MA.shape"
   ]
  },
  {
   "cell_type": "code",
   "execution_count": null,
   "metadata": {},
   "outputs": [],
   "source": [
    "# Power spectrum\n",
    "fig = plt.figure(figsize=(18, 12))\n",
    "axs = fig.subplots(nrows=6, ncols=1)\n",
    "axs[0].plot(misleep.spectrum(EMG_DIFF_MA, sf=data.sf[4], band=[0.5, 150], relative=True, win_sec=2)[1])\n",
    "axs[0].set_ylim(0, 0.2)\n",
    "axs[1].plot(misleep.spectrum(EMG_DIFF_Wake, sf=data.sf[4], band=[0.5, 150], relative=True, win_sec=1)[1])\n",
    "axs[1].set_ylim(0, 0.2)\n",
    "axs[2].plot(misleep.spectrum(EMG_DIFF_NREM, sf=data.sf[4], band=[0.5, 150], relative=True, win_sec=1)[1])\n",
    "axs[2].set_ylim(0, 0.2)\n",
    "axs[3].plot(misleep.spectrum(EMG_DIFF_REM, sf=data.sf[4], band=[0.5, 150], relative=True, win_sec=1)[1])\n",
    "axs[3].set_ylim(0, 0.2)\n",
    "axs[4].plot(misleep.spectrum(EMG_DIFF_Art, sf=data.sf[4], band=[0.5, 150], relative=True, win_sec=1)[1])\n",
    "axs[4].set_ylim(0, 0.2)\n",
    "axs[5].plot(misleep.spectrum(EMG_DIFF_quiet_wake, sf=data.sf[4], band=[0.5, 150], relative=True, win_sec=1)[1])\n",
    "axs[5].set_ylim(0, 0.2)"
   ]
  },
  {
   "cell_type": "code",
   "execution_count": null,
   "metadata": {},
   "outputs": [],
   "source": [
    "plt.plot(EMG_DIFF_quiet_wake)\n",
    "plt.ylim(-1e-4, 1e-4)"
   ]
  }
 ],
 "metadata": {
  "kernelspec": {
   "display_name": "Python 3",
   "language": "python",
   "name": "python3"
  },
  "language_info": {
   "codemirror_mode": {
    "name": "ipython",
    "version": 3
   },
   "file_extension": ".py",
   "mimetype": "text/x-python",
   "name": "python",
   "nbconvert_exporter": "python",
   "pygments_lexer": "ipython3",
   "version": "3.8.17"
  },
  "orig_nbformat": 4
 },
 "nbformat": 4,
 "nbformat_minor": 2
}
