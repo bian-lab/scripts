{
 "cells": [
  {
   "cell_type": "markdown",
   "id": "dbf89545",
   "metadata": {
    "toc": true
   },
   "source": [
    "<h1>Table of Contents<span class=\"tocSkip\"></span></h1>\n",
    "<div class=\"toc\"><ul class=\"toc-item\"></ul></div>"
   ]
  },
  {
   "cell_type": "code",
   "execution_count": 17,
   "id": "be383f50",
   "metadata": {
    "ExecuteTime": {
     "end_time": "2024-01-24T02:04:49.137336Z",
     "start_time": "2024-01-24T02:04:49.132353Z"
    }
   },
   "outputs": [],
   "source": [
    "from hdf5storage import loadmat\n",
    "from scipy.signal import welch, butter, filtfilt\n",
    "import numpy as np"
   ]
  },
  {
   "cell_type": "code",
   "execution_count": 20,
   "id": "f5163343",
   "metadata": {
    "ExecuteTime": {
     "end_time": "2024-01-24T02:09:22.068584Z",
     "start_time": "2024-01-24T02:09:21.896155Z"
    }
   },
   "outputs": [],
   "source": [
    "wake_data = loadmat(r'E:\\workplace\\EEGProcessing\\00_DATA\\20240117_0700_WXQ_3mice_24h\\mouse2\\merged_data\\wake_data.mat')\n",
    "wake_data = list(wake_data.values())[-1]"
   ]
  },
  {
   "cell_type": "code",
   "execution_count": 21,
   "id": "59b78ee6",
   "metadata": {
    "ExecuteTime": {
     "end_time": "2024-01-24T02:09:23.349069Z",
     "start_time": "2024-01-24T02:09:23.339102Z"
    }
   },
   "outputs": [
    {
     "data": {
      "text/plain": [
       "(6, 17033945)"
      ]
     },
     "execution_count": 21,
     "metadata": {},
     "output_type": "execute_result"
    }
   ],
   "source": [
    "wake_data.shape"
   ]
  },
  {
   "cell_type": "code",
   "execution_count": 22,
   "id": "f09d21de",
   "metadata": {
    "ExecuteTime": {
     "end_time": "2024-01-24T02:09:25.115220Z",
     "start_time": "2024-01-24T02:09:25.076307Z"
    }
   },
   "outputs": [],
   "source": [
    "data = wake_data[3] - wake_data[1]\n",
    "\n"
   ]
  },
  {
   "cell_type": "code",
   "execution_count": 23,
   "id": "b3a034c5",
   "metadata": {
    "ExecuteTime": {
     "end_time": "2024-01-24T02:09:27.605620Z",
     "start_time": "2024-01-24T02:09:26.372320Z"
    }
   },
   "outputs": [],
   "source": [
    "fnorm = np.array(0.5 / (.5 * 305))\n",
    "b, a = butter(3, fnorm, btype='highpass')\n",
    "\n",
    "filtered_data = filtfilt(b, a, data)\n",
    "\n",
    "F, P = welch(filtered_data, 305, nperseg=305*5)"
   ]
  },
  {
   "cell_type": "code",
   "execution_count": 24,
   "id": "140aa37d",
   "metadata": {
    "ExecuteTime": {
     "end_time": "2024-01-24T02:09:31.722289Z",
     "start_time": "2024-01-24T02:09:31.703353Z"
    }
   },
   "outputs": [],
   "source": [
    "fd = r'E:\\workplace\\EEGProcessing\\00_DATA\\20240117_0700_WXQ_3mice_24h\\mouse2\\PSD\\Wake_data.csv'\n",
    "\n",
    "data_arr = np.array([F, P]).transpose()\n",
    "np.savetxt(fd, X=data_arr, delimiter=',')"
   ]
  }
 ],
 "metadata": {
  "kernelspec": {
   "display_name": "Python 3 (ipykernel)",
   "language": "python",
   "name": "python3"
  },
  "language_info": {
   "codemirror_mode": {
    "name": "ipython",
    "version": 3
   },
   "file_extension": ".py",
   "mimetype": "text/x-python",
   "name": "python",
   "nbconvert_exporter": "python",
   "pygments_lexer": "ipython3",
   "version": "3.8.17"
  },
  "toc": {
   "base_numbering": 1,
   "nav_menu": {},
   "number_sections": true,
   "sideBar": true,
   "skip_h1_title": false,
   "title_cell": "Table of Contents",
   "title_sidebar": "Contents",
   "toc_cell": true,
   "toc_position": {},
   "toc_section_display": true,
   "toc_window_display": false
  }
 },
 "nbformat": 4,
 "nbformat_minor": 5
}
