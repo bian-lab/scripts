{
 "cells": [
  {
   "cell_type": "markdown",
   "id": "5a0e6825",
   "metadata": {
    "toc": true
   },
   "source": [
    "<h1>Table of Contents<span class=\"tocSkip\"></span></h1>\n",
    "<div class=\"toc\"><ul class=\"toc-item\"></ul></div>"
   ]
  },
  {
   "cell_type": "code",
   "execution_count": 2,
   "id": "d16e1905",
   "metadata": {
    "ExecuteTime": {
     "end_time": "2024-01-12T07:45:25.591600Z",
     "start_time": "2024-01-12T07:45:25.394923Z"
    }
   },
   "outputs": [],
   "source": [
    "import pandas as pd\n",
    "import os"
   ]
  },
  {
   "cell_type": "code",
   "execution_count": 39,
   "id": "f780417f",
   "metadata": {
    "ExecuteTime": {
     "end_time": "2024-01-12T07:52:07.256430Z",
     "start_time": "2024-01-12T07:52:07.223315Z"
    }
   },
   "outputs": [
    {
     "data": {
      "text/plain": [
       "['GACGCACAATCCCACTATCC',\n",
       " 'AATCATCGCAAGACCGGC',\n",
       " 'TACTATTGCCAGCATTGCTGC',\n",
       " 'GCAAATGGCATTCTGACATCC',\n",
       " 'GACTGGTTCCAATTGACAAGC',\n",
       " 'AGATGGTGCACGATGCACAG',\n",
       " 'TTTTCGTTTTAAAACCTAAGAGTC',\n",
       " 'TAAGAGTCACTTTAAAATTTGTATAC',\n",
       " 'AGGGATGTTTAATACCACTAC',\n",
       " 'CCGGGAGCTGCATGTGTCAGAGG',\n",
       " 'GGGCTGGCAAGCCACGTTTGGTG',\n",
       " 'TCAAGCCTCAGACAGTGGTTC',\n",
       " 'TCTAAAAGCTGCGGAATTGT',\n",
       " 'TCCAAACTCATCAATGTATC',\n",
       " 'CGCAAATGGGCGGTAGGCGTG',\n",
       " 'GTTCACGGTGCCCTCC',\n",
       " 'GGAGGCTTTTTTGGAGGC',\n",
       " 'CAGCTTATAATGGTTACAAAT',\n",
       " 'GAAATTTGTGATGCTATTGC',\n",
       " 'TAGAAGGCACAGTCGAGG',\n",
       " 'CCAGCTTGGTTCCCAATAGA',\n",
       " 'CCCTCATAGTTAGCGTAACG',\n",
       " 'CGCCAGGGTTTTCCCAGTCACGAC',\n",
       " 'TGTAAAACGACGGCCAGT',\n",
       " 'CAGGAAACAGCTATGAC',\n",
       " 'AGCGGATAACAATTTCACACAGGA',\n",
       " 'ACCCTAACTGACACACATTCC',\n",
       " 'CTTTATCCAGCCCTCAC',\n",
       " 'ATGCCATAGCATTTTTATCC',\n",
       " 'GATTTAATCTGTATCAGG',\n",
       " 'GCCTCTAACATTGAGACAGC',\n",
       " 'AAGAGTTACTCAAGAACAAGAA',\n",
       " 'AAGAAGGGCAGCATTCAAAG',\n",
       " 'CTGCGTTCTGATTTAATCTG',\n",
       " 'TTGCGCCGACATCATAAC',\n",
       " 'CATGGTCCTGCTGGAGTTCGTG',\n",
       " 'TATGGCTGATTATGATCAGT',\n",
       " 'TGGGAGGTCTATATAAGCAGAG',\n",
       " 'CGTCGCCGTCCAGCTCGACCAG',\n",
       " 'GGATTATTCATACCGTCCCA',\n",
       " 'CAAATGTGGTATGGCTGATT',\n",
       " 'CGGACCTTTAATTCAACCC',\n",
       " 'CTCTCCCCCTTGAACCTCCT',\n",
       " 'GAGCCTGGGGACTTTCCACACCC',\n",
       " 'TGCGTACTGCGGTGATCAAC',\n",
       " 'CTGCAAGGCGATTAAGTTGG',\n",
       " 'TGAGCGGATAACAATTTCAC',\n",
       " 'GTTCTGAGGTCATTACTGG',\n",
       " 'CTAGCAAAATAGGCTGTCCC',\n",
       " 'GACGATAGTCATGCCCCGCG',\n",
       " 'CTTTATGTTTTTGGCGTCTTCCA',\n",
       " 'ATTAACCCTCACTAAAGGGA',\n",
       " 'TAATACGACTCACTATAGGG',\n",
       " 'GCTAGTTATTGCTCAGCGG',\n",
       " 'GATCCCGCGAAATTAATACG',\n",
       " 'TTGTACACGGCCGCATAATC',\n",
       " 'GATTATGCGGCCGTGTACAA',\n",
       " 'CGAACGCCAGCACATGGACA',\n",
       " 'GATTTAGGTGACACTATAG',\n",
       " 'ACGCCATATCGCCGAAAGG',\n",
       " 'GGCAGGGATCTTAGATTCTGTG',\n",
       " 'ATTAGGACAAGGCTGGTGGG',\n",
       " 'GGACTTTCCAAAATGTCG',\n",
       " 'TCCGTAGGTGAACCTGCGG',\n",
       " 'GCTGCGTTCTTCATCGATGC',\n",
       " 'GCATCGATGAAGAACGCAGC',\n",
       " 'TCCTCCGCTTATTGATATGC',\n",
       " 'GGAAGTAAAAGTCGTAACAAGG',\n",
       " 'AGAGTTTGATCCTGGCTCAG',\n",
       " 'GGTTACCTTGTTACGACTT',\n",
       " 'AACGCACACCGGCCTTATTC',\n",
       " 'CTTACTGACATCCACTTTGC',\n",
       " 'CACTGCATTCTAGTTGTGGT',\n",
       " 'GGGCAGGAAGAGGGCCTA',\n",
       " 'GACTATCATATGCTTACCGT',\n",
       " 'CAGCACAAAAGGAAACTCACC',\n",
       " 'CCGATCTGGCCATACACTTG',\n",
       " 'TATGTCCTTCCGAGTGAGAG',\n",
       " 'GGATCTCGACGCTCTCCCT',\n",
       " 'CAACATAGTTAAGAATACCAGTC',\n",
       " 'GTCTCCTTCCGTGTTTCAG',\n",
       " 'CCAGGCTTTACACTTTATGC',\n",
       " 'GCGATTAAGTTGGGTAACGC',\n",
       " 'TGGATACACGCCGCCCACGTG',\n",
       " 'ATCGTCGACCACTGTGCTGG',\n",
       " 'ATAACCCCGCCCCGTTG',\n",
       " 'TTAGGACAAGGCTGGTGG',\n",
       " 'ACACAAAGCCGCTCCATCAG',\n",
       " 'AAATGATAACCATCTCGC',\n",
       " 'TTGGTTCTTGCCGGGTC',\n",
       " 'TCATCGGAAGAGAGTAG',\n",
       " 'CCAGCCTCTTGCTGAGTGGAGATG',\n",
       " 'AAGCCGACAACCTTGATTGGAG',\n",
       " 'AACCATCTCGCAAATAAATA',\n",
       " 'ACGCACAGAATCTAGCGCTT',\n",
       " 'TCCGTTGTGGGGAAAGTTATC',\n",
       " 'GGGTAGCCAGCAGCATCC',\n",
       " 'TTCGGCTTCTGGCGTGTGAC',\n",
       " 'TATGTCCTTCCGAGTGAGAG',\n",
       " 'GAATAAGTGCGACATCATCATC',\n",
       " 'GTAAATTTCTGGCAAGGTAGAC',\n",
       " 'CATCATAACGGTTCTGGC',\n",
       " 'ATCTGTATCAGGCTGAAAATC',\n",
       " 'GGTCGTCAGACTGTCGATGAAGCC',\n",
       " 'TGTCCTACTCAGGAGAGCGTTCAC',\n",
       " 'CGACTCACTATAGGGAGAGCGGC',\n",
       " 'AAGAACATCGATTTTCCATGGCAG',\n",
       " 'TCCCACAACGAGGACTACAC',\n",
       " 'TGAAGCGCATGAACTCCTTG',\n",
       " 'GCGTGAATGTAAGCGTGAC',\n",
       " 'CGTCAGCAGAGCTTCACCATTG',\n",
       " 'TAAAACCTAAGAGTCACTTT',\n",
       " 'AGCTCGTTTAGTGAACCGTCAGATCG',\n",
       " 'ACCTACAGGTGGGGTCTTTCATTCCC',\n",
       " 'GCATATCAATAAGCGGAGGAAAAG',\n",
       " 'GGTCCGTGTTTCAAGACGG',\n",
       " 'TCGCTATGTGTTCTGGGAAA',\n",
       " 'ATCGAGACCGAGGAGAGG',\n",
       " 'TGTATCTTATGGTACTGTAACTG',\n",
       " 'CAGCGGGGCTGCTAAAGCGCATGC',\n",
       " 'GGTCCTCCGATCGTTGTCAG',\n",
       " 'GACGCCGGGCAAGAGCAACT',\n",
       " 'GACGAGGGGAAATTAATAGGTTGT',\n",
       " 'CACCTGATTGCCCGACATTAT']"
      ]
     },
     "execution_count": 39,
     "metadata": {},
     "output_type": "execute_result"
    }
   ],
   "source": [
    "sheet = pd.read_excel('安升达通用引物.xlsx')\n",
    "p_lst = ['P3.txt', 'P4.txt', 'P15.txt', 'P24.txt', 'P29.txt', 'pAAV-hSyn-DIO-GFP-53BP1.txt']\n",
    "\n",
    "lst = sheet['序列']\n",
    "lst = [str(each).strip()[3:-3].strip() for each in lst]\n",
    "lst"
   ]
  },
  {
   "cell_type": "code",
   "execution_count": 40,
   "id": "170397f7",
   "metadata": {
    "ExecuteTime": {
     "end_time": "2024-01-12T07:52:19.838423Z",
     "start_time": "2024-01-12T07:52:19.806423Z"
    }
   },
   "outputs": [],
   "source": [
    "# Pairing\n",
    "paired = []\n",
    "for each in p_lst:\n",
    "    seq = open(each, 'r').read().upper()\n",
    "    for idx, each_ in enumerate(lst):\n",
    "        if each_ in seq:\n",
    "            paired.append([idx+2, each])"
   ]
  },
  {
   "cell_type": "code",
   "execution_count": 41,
   "id": "2663895a",
   "metadata": {
    "ExecuteTime": {
     "end_time": "2024-01-12T07:52:20.618096Z",
     "start_time": "2024-01-12T07:52:20.610095Z"
    }
   },
   "outputs": [
    {
     "data": {
      "text/plain": [
       "[[11, 'P3.txt'],\n",
       " [13, 'P3.txt'],\n",
       " [123, 'P3.txt'],\n",
       " [11, 'P4.txt'],\n",
       " [13, 'P4.txt'],\n",
       " [40, 'P4.txt'],\n",
       " [123, 'P4.txt'],\n",
       " [11, 'P15.txt'],\n",
       " [37, 'P15.txt'],\n",
       " [123, 'P15.txt'],\n",
       " [20, 'P24.txt'],\n",
       " [123, 'P24.txt'],\n",
       " [11, 'P29.txt'],\n",
       " [109, 'P29.txt'],\n",
       " [123, 'P29.txt'],\n",
       " [11, 'pAAV-hSyn-DIO-GFP-53BP1.txt'],\n",
       " [40, 'pAAV-hSyn-DIO-GFP-53BP1.txt'],\n",
       " [123, 'pAAV-hSyn-DIO-GFP-53BP1.txt']]"
      ]
     },
     "execution_count": 41,
     "metadata": {},
     "output_type": "execute_result"
    }
   ],
   "source": [
    "paired"
   ]
  },
  {
   "cell_type": "code",
   "execution_count": 42,
   "id": "929f2e47",
   "metadata": {
    "ExecuteTime": {
     "end_time": "2024-01-12T07:52:22.569996Z",
     "start_time": "2024-01-12T07:52:22.538997Z"
    }
   },
   "outputs": [],
   "source": [
    "# Reverse pairing\n",
    "\n",
    "reverse_paired = []\n",
    "remap = {\n",
    "    ord('A'): 'T',\n",
    "    ord('T'): 'A',\n",
    "    ord('G'): 'C',\n",
    "    ord('C'): 'G'\n",
    "}\n",
    "for each in p_lst:\n",
    "    seq = open(each, 'r').read().upper()\n",
    "    seq = seq[::-1]\n",
    "    seq = seq.translate(remap)\n",
    "    for idx, each_ in enumerate(lst):\n",
    "        if each_ in seq:\n",
    "            reverse_paired.append([idx+2, each])"
   ]
  },
  {
   "cell_type": "code",
   "execution_count": 43,
   "id": "e39a5c65",
   "metadata": {
    "ExecuteTime": {
     "end_time": "2024-01-12T07:52:23.456639Z",
     "start_time": "2024-01-12T07:52:23.447638Z"
    },
    "scrolled": false
   },
   "outputs": [
    {
     "data": {
      "text/plain": [
       "[[22, 'P3.txt'],\n",
       " [63, 'P3.txt'],\n",
       " [81, 'P3.txt'],\n",
       " [88, 'P3.txt'],\n",
       " [109, 'P3.txt'],\n",
       " [122, 'P3.txt'],\n",
       " [22, 'P4.txt'],\n",
       " [37, 'P4.txt'],\n",
       " [63, 'P4.txt'],\n",
       " [81, 'P4.txt'],\n",
       " [88, 'P4.txt'],\n",
       " [122, 'P4.txt'],\n",
       " [22, 'P15.txt'],\n",
       " [40, 'P15.txt'],\n",
       " [63, 'P15.txt'],\n",
       " [81, 'P15.txt'],\n",
       " [88, 'P15.txt'],\n",
       " [122, 'P15.txt'],\n",
       " [15, 'P24.txt'],\n",
       " [19, 'P24.txt'],\n",
       " [74, 'P24.txt'],\n",
       " [122, 'P24.txt'],\n",
       " [22, 'P29.txt'],\n",
       " [63, 'P29.txt'],\n",
       " [88, 'P29.txt'],\n",
       " [110, 'P29.txt'],\n",
       " [122, 'P29.txt'],\n",
       " [22, 'pAAV-hSyn-DIO-GFP-53BP1.txt'],\n",
       " [37, 'pAAV-hSyn-DIO-GFP-53BP1.txt'],\n",
       " [63, 'pAAV-hSyn-DIO-GFP-53BP1.txt'],\n",
       " [88, 'pAAV-hSyn-DIO-GFP-53BP1.txt'],\n",
       " [122, 'pAAV-hSyn-DIO-GFP-53BP1.txt']]"
      ]
     },
     "execution_count": 43,
     "metadata": {},
     "output_type": "execute_result"
    }
   ],
   "source": [
    "reverse_paired"
   ]
  }
 ],
 "metadata": {
  "kernelspec": {
   "display_name": "Python 3 (ipykernel)",
   "language": "python",
   "name": "python3"
  },
  "language_info": {
   "codemirror_mode": {
    "name": "ipython",
    "version": 3
   },
   "file_extension": ".py",
   "mimetype": "text/x-python",
   "name": "python",
   "nbconvert_exporter": "python",
   "pygments_lexer": "ipython3",
   "version": "3.8.17"
  },
  "toc": {
   "base_numbering": 1,
   "nav_menu": {},
   "number_sections": true,
   "sideBar": true,
   "skip_h1_title": false,
   "title_cell": "Table of Contents",
   "title_sidebar": "Contents",
   "toc_cell": true,
   "toc_position": {},
   "toc_section_display": true,
   "toc_window_display": false
  }
 },
 "nbformat": 4,
 "nbformat_minor": 5
}
