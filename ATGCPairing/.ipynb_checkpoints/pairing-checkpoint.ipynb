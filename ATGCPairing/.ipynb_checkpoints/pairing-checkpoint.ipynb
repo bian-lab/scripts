{
 "cells": [
  {
   "cell_type": "markdown",
   "id": "e3f1f949",
   "metadata": {
    "toc": true
   },
   "source": [
    "<h1>Table of Contents<span class=\"tocSkip\"></span></h1>\n",
    "<div class=\"toc\"><ul class=\"toc-item\"></ul></div>"
   ]
  },
  {
   "cell_type": "code",
   "execution_count": 2,
   "id": "ad016a28",
   "metadata": {
    "ExecuteTime": {
     "end_time": "2024-01-12T07:45:25.591600Z",
     "start_time": "2024-01-12T07:45:25.394923Z"
    }
   },
   "outputs": [],
   "source": [
    "import pandas as pd\n",
    "import os"
   ]
  },
  {
   "cell_type": "code",
   "execution_count": 3,
   "id": "18ff5243",
   "metadata": {
    "ExecuteTime": {
     "end_time": "2024-01-12T07:45:26.041620Z",
     "start_time": "2024-01-12T07:45:25.913377Z"
    }
   },
   "outputs": [],
   "source": [
    "sheet = pd.read_excel('安升达通用引物.xlsx')\n",
    "p_lst = ['P3.txt', 'P4.txt', 'P15.txt', 'P24.txt', 'P29.txt', 'pAAV-hSyn-DIO-GFP-53BP1.txt']"
   ]
  },
  {
   "cell_type": "code",
   "execution_count": 5,
   "id": "89b7b494",
   "metadata": {
    "ExecuteTime": {
     "end_time": "2024-01-12T07:46:30.259971Z",
     "start_time": "2024-01-12T07:46:30.254971Z"
    }
   },
   "outputs": [],
   "source": [
    "lst = sheet['序列']"
   ]
  },
  {
   "cell_type": "code",
   "execution_count": null,
   "id": "57904965",
   "metadata": {},
   "outputs": [],
   "source": []
  },
  {
   "cell_type": "code",
   "execution_count": 8,
   "id": "a6f12d7a",
   "metadata": {
    "ExecuteTime": {
     "end_time": "2024-01-11T08:23:40.136971Z",
     "start_time": "2024-01-11T08:23:40.116971Z"
    }
   },
   "outputs": [],
   "source": [
    "lst = [str(each) for each in lst]"
   ]
  },
  {
   "cell_type": "code",
   "execution_count": 9,
   "id": "89cd98a3",
   "metadata": {
    "ExecuteTime": {
     "end_time": "2024-01-11T08:23:40.719402Z",
     "start_time": "2024-01-11T08:23:40.699615Z"
    }
   },
   "outputs": [
    {
     "data": {
      "text/plain": [
       "['nan',\n",
       " 'CAGCGGGGCTGCTAAAGCGCATGC',\n",
       " 'TTGCGCCGACATCATAAC',\n",
       " 'CTGCGTTCTGATTTAATCTG',\n",
       " 'TGTCCCCATAATTTTTGGCAGAGG',\n",
       " 'ATTATAGAGGACACCTAGTC',\n",
       " 'CTCCTCAAAGCAATACACTG',\n",
       " 'CGATCAACCTCACCACCTCT',\n",
       " 'GGACTAACCCCTATACCTTCTGC',\n",
       " 'AAATCTTACCCCGCCTGTTT',\n",
       " 'TACTTCACAAAGCGCCTTCC',\n",
       " 'TGGCTCCTTTAACCTCTCCA',\n",
       " 'ACTAATTAATCCCCTGGCCC',\n",
       " 'CTAACCGGCTTTTTGCCC',\n",
       " 'GAGGCCTAACCCCTGTCTTT',\n",
       " 'CTCTTCGTCTGATCCGTCCT',\n",
       " 'ACGCCAAAATCCATTTCACT',\n",
       " 'ACGAGTACACCGACTACGGC',\n",
       " 'TTTCCCCCTCTATTGATCCC',\n",
       " 'CCCACCAATCACATGCCTAT',\n",
       " 'TCTCCATCTATTGATGAGGGTCT',\n",
       " 'GCCATACTAGTCTTTGCCGC',\n",
       " 'TCACTCTCACTGCCCAAGAA',\n",
       " 'TATCACTCTCCTACTTACAG',\n",
       " 'AAACAACCCAGCTCTCCCTAA',\n",
       " 'ACATCTGTACCCACGCCTTC',\n",
       " 'GCATAATTAAACTTTACTTC',\n",
       " 'TGAAACTTCGGCTCACTCCT',\n",
       " 'TCATTGGACAAGTAGCATCC',\n",
       " 'CACCATCCTCCGTGAAATCA',\n",
       " 'TCGTTTAGTGAACCGTCAGA',\n",
       " 'GTCGAAAATTCAAGACAAGG',\n",
       " 'GCCTTATGCAGTTGCTCTCC',\n",
       " 'AATCTAAGTCTGTGCTCCTT',\n",
       " 'ACTTGTTTCTAAATCGGCTA',\n",
       " 'CCATCTAATTCAACAAGAATTGGGACAAC',\n",
       " 'GGTCAAGGTACGTAGTAGAG',\n",
       " 'GTCAGACTGTCGATGAAG',\n",
       " 'CTAACTGAAACACGGAAGGAG',\n",
       " 'CTAGCCAGGAACTTGCGCTTA',\n",
       " 'AAGCGTGACATAACTAATTAC',\n",
       " 'GTTTTCCCAGTCACGACGTT',\n",
       " 'AATCCAGCAAGTATATAG',\n",
       " 'TCCCAGTCACGACGTTGTAA',\n",
       " 'TTGCGGGACTCTAATCATAAA',\n",
       " 'GAAACTGATGCATTGAACTTGACG',\n",
       " 'AGGGTTATTGTCTCATGAGCGG',\n",
       " 'GCAACGTGCTGGTTATTGTG',\n",
       " 'TGAACACCATATCCATCCGGCGTA',\n",
       " 'GGGTAGCGGCTGAAGCACTG',\n",
       " 'ACAACGGTTCCTGATGAGGTGGTT',\n",
       " 'TTGGTCACCTTCAGCTTGG',\n",
       " 'GAGGGCCTATTTCCCATGATTC',\n",
       " 'TATTTATGCAGAGGCCGAGG',\n",
       " 'CAGAGCCAACAGCCCCACCA',\n",
       " 'GGACCTACACCTGTCAAC',\n",
       " 'CCTAGTATAAACAATGAGACAC',\n",
       " 'GCTGGGTGTGGTATTCC',\n",
       " 'CTGCCAGTTCTAGCTCTGCTTC',\n",
       " 'CTTCTGTATATCATTGACAGTCCAGCT',\n",
       " 'CCATGTTCATGCCTTCTTCT',\n",
       " 'GTTTGGACAAACCACAACTA',\n",
       " 'GGATAAAATGCTTGATGGTCGGAAGAG',\n",
       " 'CTGACCGCTTCCTCGTGC',\n",
       " 'CCAGCTTGGTTCCCAATAGA',\n",
       " 'GAAGTTCCCTAACACCGAGT',\n",
       " 'CTGCACTGTACCCCCCAATC',\n",
       " 'ATAACCCCGCCCCGTTG',\n",
       " 'TTAGGACAAGGCTGGTGG',\n",
       " 'CCTCTACAAATGTGGTATGG',\n",
       " 'TGCCTTCATACGCTATTTATTTGC',\n",
       " 'GTCTCCTTCCGTGTTTCAG',\n",
       " 'TGTAAAACGACGGCCAGT',\n",
       " 'CGCCAGGGTTTTCCCAGTCACGAC',\n",
       " 'CAGGAAACAGCTATGACC',\n",
       " 'AGCGGATAACAATTTCACACAGGA',\n",
       " 'ATTAACCCTCACTAAAGGGA',\n",
       " 'TAATACGACTCACTATAGGG',\n",
       " 'TAATACGACTCACTATAG',\n",
       " 'TGCTAGTTATTGCTCAGCGG',\n",
       " 'ATTTAGGTGACACTATAGAA',\n",
       " 'AGATGGTGCACGATGCACAG',\n",
       " 'TAAGAGTCACTTTAAAATTTGTATAC',\n",
       " 'GACTGGTTCCAATTGACAAGC',\n",
       " 'GGCAAATGGCATTCTGACAT',\n",
       " 'GAACGCCAGCACATGGAC',\n",
       " 'TGGCACCAAAATCAACGGGA',\n",
       " 'TAGAAGGCACAGTCGAGG',\n",
       " 'AGAGTTTGATCCTGGCTCAG',\n",
       " 'TACGGCTACCTTGTTACGACTT',\n",
       " 'TCCGTAGGTGAACCTGCGG',\n",
       " 'TCCTCCGCTTATTGATATGC',\n",
       " 'TAATTTTATTAGGACAAGGCTG',\n",
       " 'GATGCGTCCGGCGTAGAG',\n",
       " 'GGATCTCGACGCTCTCCCT',\n",
       " 'TTCACTTCTGAGTTCGGCATG',\n",
       " 'GATTATGCGGCCGTGTACAA',\n",
       " 'ttgtacacggccgcataat',\n",
       " 'GTGGTTTGTCCAAACTCATC',\n",
       " 'TACCACTACAATGGATG',\n",
       " 'GAGTAGTAACAAAGGTCAA',\n",
       " 'CTAGCAAAATAGGCTGTCCC',\n",
       " 'TGTATCTTATGGTACTGTAACTG',\n",
       " 'CTTTATGTTTTTGGCGTCTTCC',\n",
       " 'GGTCGTCAGACTGTCGATGAAGCC',\n",
       " 'ACACAAAGCCGCTCCATCAG',\n",
       " 'CCAGCCTCTTGCTGAGTGGAGATG',\n",
       " 'AAGCCGACAACCTTGATTGGAG',\n",
       " 'GAACCTCCTCTTTCGAC',\n",
       " 'ACCCTAACTGACACACATTCC',\n",
       " 'ATGCCATAGCATTTTTATCC',\n",
       " 'GATTTAATCTGTATCAGG',\n",
       " 'AAGTGCCACCTGACGTCTAA',\n",
       " 'GCCTGCCACCATACCCAC',\n",
       " 'AAGAAGGGCAGCATTCAAAG',\n",
       " 'CTGCGTTCTGATTTAATCTG',\n",
       " 'CCAGGCTTTACACTTTATGC',\n",
       " 'GCGATTAAGTTGGGTAACGC',\n",
       " 'TCTAAAAGCTGCGGAATTGT',\n",
       " 'TCCAAACTCATCAATGTATC',\n",
       " 'TATAACGCGTTTGGAATCACT',\n",
       " 'GAATAAGTGCGACATCATCATC',\n",
       " 'GTAAATTTCTGGCAAGGTAGAC',\n",
       " 'ACGTGGGTATAAGAGGCG',\n",
       " 'CGATGCTAGACGATCCAG',\n",
       " 'TCCCACAACGAGGACTACAC',\n",
       " 'GCCCTCGCCCTCGATCTC',\n",
       " 'TCAAGCCTCAGACAGTGGTTC',\n",
       " 'CATGGTCCTGCTGGAGTTCGTG',\n",
       " 'TATGGCTGATTATGATCAGT',\n",
       " 'CGTCGCCGTCCAGCTCGACCAG',\n",
       " 'TGGGAGGTCTATATAAGCAGAG',\n",
       " 'CCGGGAGCTGCATGTGTCAGAGG',\n",
       " 'GGGCTGGCAAGCCACGTTTGGTG',\n",
       " 'AAATGATAACCATCTCGC',\n",
       " 'AACGCACACCGGCCTTATTC',\n",
       " 'AGCTCGTTTAGTGAACCGTCAGATCG',\n",
       " 'ACCTACAGGTGGGGTCTTTCATTCCC',\n",
       " 'CTTGAACCTCCTCGTTCGAC',\n",
       " 'GTTGCTGACTAATTGAGATG',\n",
       " 'TGAGCGGATAACAATTTCAC',\n",
       " 'GTTCTGAGGTCATTACTGG',\n",
       " 'TCGGTTAGAGCGGATGTG',\n",
       " 'GAAATTTGTGATGCTATTGC',\n",
       " 'ATCGAGACCGAGGAGAGG',\n",
       " 'GACGCACAATCCCACTATCC',\n",
       " 'ATGGACTATCATATGCTTACCGTA',\n",
       " 'CAGCACAAAAGGAAACTCACC',\n",
       " 'AAGAACATCGATTTTCCATGGCAG',\n",
       " 'CGACTCACTATAGGGAGAGCGGC',\n",
       " 'AAGAACATCGATTTTCCATGGCAG',\n",
       " 'GTAGGCGTGTACGGTGGGAG',\n",
       " 'GAGACGTGCTACTTCCATTTGTC',\n",
       " 'CCTCACATTGCCAAAAGACG',\n",
       " 'TTGCTACAGGCATCGTGGT',\n",
       " 'TCGCGTTAACGCTAGCATGGATCTC',\n",
       " 'GTAACATCAGAGATTTTGAGACAC',\n",
       " 'GGGTAGAATGGCGCTGGG',\n",
       " 'TCGCTATGTGTTCTGGGAAA',\n",
       " 'nan',\n",
       " 'AACCATCTCGCAAATAAATA',\n",
       " 'TATTTATGCAGAGGCCGAGG',\n",
       " 'ACGCACAGAATCTAGCGCTT',\n",
       " 'GACGATAGTCATGCCCCGCG',\n",
       " 'CATAGCGTAAAAGGAGCAACA',\n",
       " 'GCACTGGAGTGGCAACTT',\n",
       " 'GGTAGGCGTGTACGGTGG',\n",
       " 'nan',\n",
       " 'nan',\n",
       " 'TATGTCCTTCCGAGTGAGAG',\n",
       " 'CGACTCACTATAGGGAGAGCGTC',\n",
       " 'AAGTTGGGTAACGCCAGGGTTTTCC',\n",
       " 'TCCCACTATCCTTCGCAA',\n",
       " 'TGAACTTGTGGCCGTTCACGT',\n",
       " 'TTTTTACAACCACTAAACCCAC',\n",
       " 'CGCTTCGTTAATACAGATGTAGG',\n",
       " 'GTTCCTTATATGTAGCTTTCGACAT',\n",
       " 'ATGCTACAAAGGACCTAATG',\n",
       " 'GAAATTTGTGATGCTATTGC',\n",
       " 'ACACTTTATGCTTCCGGCTC',\n",
       " 'ATCGGTGCGGGCCTCTTC',\n",
       " 'GGAAGTAAAAGTCGTAACAAGG',\n",
       " 'TGCGTACTGCGGTGATCAAC',\n",
       " 'CTGCAAGGCGATTAAGTTGG',\n",
       " 'CATCTCAGTGCAACTAAA',\n",
       " 'GACGAGGTGCCTAAAGGACT',\n",
       " 'TGTCCTACTCAGGAGAGCGTTCAC',\n",
       " 'CGTCAGCAGAGCTTCACCAT',\n",
       " 'TAAAACCTAAGAGTCACTTT',\n",
       " 'AACATTTTCGGTTTGTATTACTTC',\n",
       " 'AGGGGCCACCAAAGAACGGAGC',\n",
       " 'CCAGGATTTTCCCAGTCAC',\n",
       " 'GGCTTTACACTTTATGCTTC',\n",
       " 'TCAACTGCAACTACTGA',\n",
       " 'GTCACACCACAGAAGTAAGG',\n",
       " 'CCCTTGAACCTCCTCGTTCGACC',\n",
       " 'CATTCTGCACGCTTCAAAAG',\n",
       " 'TCCCACAACGAGGACTACAC',\n",
       " 'CGGACCTTTAATTCAACCC',\n",
       " 'GTCTCCTTCCGTGTTTCAG',\n",
       " 'CCCCCTCCATATAACATGAA',\n",
       " 'ACGCCATCCACGCTGTTTTGACCT',\n",
       " 'AAGCGGCTTCGGCCAGTAACGTTA',\n",
       " 'GTAGTCATATGCTTGTCTC',\n",
       " 'CTACAAACTCTTCCTGTTAGTTAG',\n",
       " 'ATGGCTCATAACACCCCTTG',\n",
       " 'GCTCTTGTTGGAGCTGCAGT',\n",
       " 'TGGCTCTCCTCAAGCGTATT',\n",
       " 'TACTATTGCCAGCATTGCTGC',\n",
       " 'GAGCCAGTACACGACATCAC',\n",
       " 'GACTATCATATGCTTACCGT',\n",
       " 'GTAGTCATATGCTTGTCTC',\n",
       " 'CCCCCGCGAGGTCCGAAGAC',\n",
       " 'TAAGATACATTGATGAGTTTGGAC',\n",
       " 'GTCATGGGCCGAACATACT',\n",
       " 'CCACTTTCAACGAGCTGATG',\n",
       " 'GCATATCAATAAGCGGAGGAAAAG',\n",
       " 'GGTCCGTGTTTCAAGACGG',\n",
       " 'ATTCTGAGTCCAAGCTAGGC',\n",
       " 'GTGTTCCGCATTCTGCAAG',\n",
       " 'GCGTGAATGTAAGCGTGAC',\n",
       " 'GTAAAGCACGCCATATCGC',\n",
       " 'CGCGATCGATTATTTATTTC',\n",
       " 'AGTCAAGTAACAACCGCGA',\n",
       " 'CAGGCTTTACACTTTATGCTTC',\n",
       " 'AGAGCTCGTTTAGTGAACCG',\n",
       " 'TGAAGCTCCGGTTTTGAACT',\n",
       " 'TACTCACCAGTCACAGAAAAGCA',\n",
       " 'CCCCGTAATGCAGAAGAAGA',\n",
       " 'GGTCCTTCTTGAGTTTGTAAC',\n",
       " 'CAACATAGTTAAGAATACCAGTC',\n",
       " 'TCCGCAGCTTCACCTACGGA',\n",
       " 'GCTCGATACAATAAACGCC',\n",
       " 'GTTCACGGTGCCCTCC',\n",
       " 'CCATGATTACGCCAAGCTTTGGAGCC',\n",
       " 'CGATCTAAAGTTTTGTCGTCTTTCC',\n",
       " 'GTAAGGTGGACTCCTTCT',\n",
       " 'TTTCTGCACAATATTTCAAGC',\n",
       " 'CGCACATTTCCCCGAAAAGT',\n",
       " 'GCTTGGATACACGCCGC',\n",
       " 'AATTAATCATCCGGCTCG',\n",
       " 'AGCTTTGGGTGCTAATGGTG',\n",
       " 'CCTTATGCAGTTGCTCTCC']"
      ]
     },
     "execution_count": 9,
     "metadata": {},
     "output_type": "execute_result"
    }
   ],
   "source": [
    "lst"
   ]
  },
  {
   "cell_type": "code",
   "execution_count": 14,
   "id": "d1bb0ff7",
   "metadata": {
    "ExecuteTime": {
     "end_time": "2024-01-11T08:24:15.543739Z",
     "start_time": "2024-01-11T08:24:15.514739Z"
    }
   },
   "outputs": [],
   "source": [
    "# Pairing\n",
    "paired = []\n",
    "for each in p_lst:\n",
    "    seq = open(each, 'r').read().upper()\n",
    "    for idx, each_ in enumerate(lst):\n",
    "        if each_ in seq:\n",
    "            paired.append([idx+2, each])"
   ]
  },
  {
   "cell_type": "code",
   "execution_count": 15,
   "id": "0ea4eaec",
   "metadata": {
    "ExecuteTime": {
     "end_time": "2024-01-11T08:24:16.065085Z",
     "start_time": "2024-01-11T08:24:16.061085Z"
    }
   },
   "outputs": [
    {
     "data": {
      "text/plain": [
       "[[53, 'P3.txt'],\n",
       " [128, 'P3.txt'],\n",
       " [129, 'P3.txt'],\n",
       " [134, 'P3.txt'],\n",
       " [229, 'P3.txt'],\n",
       " [130, 'P15.txt'],\n",
       " [134, 'P15.txt'],\n",
       " [229, 'P15.txt']]"
      ]
     },
     "execution_count": 15,
     "metadata": {},
     "output_type": "execute_result"
    }
   ],
   "source": [
    "paired"
   ]
  },
  {
   "cell_type": "code",
   "execution_count": 16,
   "id": "4c5aa69f",
   "metadata": {
    "ExecuteTime": {
     "end_time": "2024-01-11T08:24:16.954769Z",
     "start_time": "2024-01-11T08:24:16.923769Z"
    }
   },
   "outputs": [],
   "source": [
    "# Reverse pairing\n",
    "\n",
    "reverse_paired = []\n",
    "remap = {\n",
    "    ord('A'): 'T',\n",
    "    ord('T'): 'A',\n",
    "    ord('G'): 'C',\n",
    "    ord('C'): 'G'\n",
    "}\n",
    "for each in p_lst:\n",
    "    seq = open(each, 'r').read().upper()\n",
    "    seq = seq[::-1]\n",
    "    seq = seq.translate(remap)\n",
    "    for idx, each_ in enumerate(lst):\n",
    "        if each_ in seq:\n",
    "            reverse_paired.append([idx+2, each])"
   ]
  },
  {
   "cell_type": "code",
   "execution_count": 17,
   "id": "7737456c",
   "metadata": {
    "ExecuteTime": {
     "end_time": "2024-01-11T08:24:17.833426Z",
     "start_time": "2024-01-11T08:24:17.823426Z"
    },
    "scrolled": false
   },
   "outputs": [
    {
     "data": {
      "text/plain": [
       "[[48, 'P3.txt'],\n",
       " [66, 'P3.txt'],\n",
       " [70, 'P3.txt'],\n",
       " [94, 'P3.txt'],\n",
       " [114, 'P3.txt'],\n",
       " [127, 'P3.txt'],\n",
       " [156, 'P3.txt'],\n",
       " [166, 'P3.txt'],\n",
       " [167, 'P3.txt'],\n",
       " [199, 'P3.txt'],\n",
       " [211, 'P3.txt'],\n",
       " [230, 'P3.txt'],\n",
       " [232, 'P3.txt'],\n",
       " [240, 'P3.txt'],\n",
       " [48, 'P15.txt'],\n",
       " [51, 'P15.txt'],\n",
       " [66, 'P15.txt'],\n",
       " [70, 'P15.txt'],\n",
       " [94, 'P15.txt'],\n",
       " [114, 'P15.txt'],\n",
       " [132, 'P15.txt'],\n",
       " [156, 'P15.txt'],\n",
       " [166, 'P15.txt'],\n",
       " [167, 'P15.txt'],\n",
       " [232, 'P15.txt'],\n",
       " [240, 'P15.txt']]"
      ]
     },
     "execution_count": 17,
     "metadata": {},
     "output_type": "execute_result"
    }
   ],
   "source": [
    "reverse_paired"
   ]
  }
 ],
 "metadata": {
  "kernelspec": {
   "display_name": "Python 3 (ipykernel)",
   "language": "python",
   "name": "python3"
  },
  "language_info": {
   "codemirror_mode": {
    "name": "ipython",
    "version": 3
   },
   "file_extension": ".py",
   "mimetype": "text/x-python",
   "name": "python",
   "nbconvert_exporter": "python",
   "pygments_lexer": "ipython3",
   "version": "3.8.17"
  },
  "toc": {
   "base_numbering": 1,
   "nav_menu": {},
   "number_sections": true,
   "sideBar": true,
   "skip_h1_title": false,
   "title_cell": "Table of Contents",
   "title_sidebar": "Contents",
   "toc_cell": true,
   "toc_position": {},
   "toc_section_display": true,
   "toc_window_display": false
  }
 },
 "nbformat": 4,
 "nbformat_minor": 5
}
